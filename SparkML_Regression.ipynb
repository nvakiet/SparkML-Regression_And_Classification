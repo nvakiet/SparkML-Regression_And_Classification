{
  "nbformat": 4,
  "nbformat_minor": 0,
  "metadata": {
    "colab": {
      "name": "SparkML_Regression.ipynb",
      "provenance": [],
      "collapsed_sections": [],
      "mount_file_id": "1oBU1C3ZyyiElZMFhC35AArolp8WGrGMW",
      "authorship_tag": "ABX9TyPXDNEt7qIyNyK2nJn0tBQ7",
      "include_colab_link": true
    },
    "kernelspec": {
      "name": "python3",
      "display_name": "Python 3"
    },
    "language_info": {
      "name": "python"
    }
  },
  "cells": [
    {
      "cell_type": "markdown",
      "metadata": {
        "id": "view-in-github",
        "colab_type": "text"
      },
      "source": [
        "<a href=\"https://colab.research.google.com/github/nvakiet/SparkML-Regression_And_Classification/blob/main/SparkML_Regression.ipynb\" target=\"_parent\"><img src=\"https://colab.research.google.com/assets/colab-badge.svg\" alt=\"Open In Colab\"/></a>"
      ]
    },
    {
      "cell_type": "markdown",
      "source": [
        "- Group ID: **05 - KKAP**  \n",
        "- Student name: **Ngo Van Anh Kiet**  \n",
        "- Student ID: **19127191**"
      ],
      "metadata": {
        "id": "EiJIDMZvMAJ_"
      }
    },
    {
      "cell_type": "markdown",
      "source": [
        "# Install Spark on Google Colab"
      ],
      "metadata": {
        "id": "A_G9F3Cg2T4T"
      }
    },
    {
      "cell_type": "code",
      "execution_count": 1,
      "metadata": {
        "id": "tB3Vtt231pq7"
      },
      "outputs": [],
      "source": [
        "!apt-get install openjdk-8-jdk-headless -qq > /dev/null\n",
        "\n",
        "!wget -q https://archive.apache.org/dist/spark/spark-3.2.1/spark-3.2.1-bin-hadoop3.2.tgz\n",
        "\n",
        "!tar xf spark-3.2.1-bin-hadoop3.2.tgz\n",
        "\n",
        "!pip install -q findspark"
      ]
    },
    {
      "cell_type": "markdown",
      "source": [
        "# Download the \"Predict Future Sales\" dataset from Kaggle"
      ],
      "metadata": {
        "id": "UgqVKmwOqnQs"
      }
    },
    {
      "cell_type": "code",
      "source": [
        "# Install Kaggle python package and create directory for kaggle credential\n",
        "!pip install kaggle\n",
        "!mkdir ~/.kaggle\n",
        "# Copy the Kaggle credential to runtime machine (remember to mount the Google Drive containing the credential file)\n",
        "!cp /content/drive/MyDrive/kaggle.json ~/.kaggle/kaggle.json\n",
        "\n",
        "# Download the dataset and unzip\n",
        "!kaggle competitions download -c competitive-data-science-predict-future-sales\n",
        "!unzip competitive-data-science-predict-future-sales.zip\n"
      ],
      "metadata": {
        "colab": {
          "base_uri": "https://localhost:8080/"
        },
        "id": "88CTFg1eqv21",
        "outputId": "2e237d8d-1eff-4b65-c02f-dc72768702b6"
      },
      "execution_count": 2,
      "outputs": [
        {
          "output_type": "stream",
          "name": "stdout",
          "text": [
            "Requirement already satisfied: kaggle in /usr/local/lib/python3.7/dist-packages (1.5.12)\n",
            "Requirement already satisfied: python-dateutil in /usr/local/lib/python3.7/dist-packages (from kaggle) (2.8.2)\n",
            "Requirement already satisfied: python-slugify in /usr/local/lib/python3.7/dist-packages (from kaggle) (6.1.2)\n",
            "Requirement already satisfied: six>=1.10 in /usr/local/lib/python3.7/dist-packages (from kaggle) (1.15.0)\n",
            "Requirement already satisfied: tqdm in /usr/local/lib/python3.7/dist-packages (from kaggle) (4.64.0)\n",
            "Requirement already satisfied: certifi in /usr/local/lib/python3.7/dist-packages (from kaggle) (2021.10.8)\n",
            "Requirement already satisfied: requests in /usr/local/lib/python3.7/dist-packages (from kaggle) (2.23.0)\n",
            "Requirement already satisfied: urllib3 in /usr/local/lib/python3.7/dist-packages (from kaggle) (1.24.3)\n",
            "Requirement already satisfied: text-unidecode>=1.3 in /usr/local/lib/python3.7/dist-packages (from python-slugify->kaggle) (1.3)\n",
            "Requirement already satisfied: chardet<4,>=3.0.2 in /usr/local/lib/python3.7/dist-packages (from requests->kaggle) (3.0.4)\n",
            "Requirement already satisfied: idna<3,>=2.5 in /usr/local/lib/python3.7/dist-packages (from requests->kaggle) (2.10)\n",
            "Downloading competitive-data-science-predict-future-sales.zip to /content\n",
            " 60% 9.00M/15.1M [00:00<00:00, 36.1MB/s]\n",
            "100% 15.1M/15.1M [00:00<00:00, 50.6MB/s]\n",
            "Archive:  competitive-data-science-predict-future-sales.zip\n",
            "  inflating: item_categories.csv     \n",
            "  inflating: items.csv               \n",
            "  inflating: sales_train.csv         \n",
            "  inflating: sample_submission.csv   \n",
            "  inflating: shops.csv               \n",
            "  inflating: test.csv                \n"
          ]
        }
      ]
    },
    {
      "cell_type": "markdown",
      "source": [
        "# Import packages and initialize a Spark session"
      ],
      "metadata": {
        "id": "jNxbpjLT2ZMa"
      }
    },
    {
      "cell_type": "code",
      "source": [
        "import os\n",
        "os.environ[\"JAVA_HOME\"] = \"/usr/lib/jvm/java-8-openjdk-amd64\"\n",
        "os.environ[\"SPARK_HOME\"] = \"/content/spark-3.2.1-bin-hadoop3.2\"\n",
        "os.environ[\"PYARROW_IGNORE_TIMEZONE\"] = \"1\"\n",
        "\n",
        "# Import Spark libraries\n",
        "import findspark\n",
        "findspark.init()"
      ],
      "metadata": {
        "id": "BDTMpOc8Phn2"
      },
      "execution_count": 3,
      "outputs": []
    },
    {
      "cell_type": "code",
      "source": [
        "from pyspark.sql import functions as f\n",
        "from pyspark.sql import SparkSession, Window\n",
        "from pyspark.ml.feature import *\n",
        "from pyspark.ml.regression import *\n",
        "from pyspark.ml.evaluation import *\n",
        "from pyspark.ml.functions import vector_to_array\n",
        "import numpy as np\n",
        "import matplotlib.pyplot as plt\n",
        "%matplotlib inline"
      ],
      "metadata": {
        "id": "gWNQEVaf2elp"
      },
      "execution_count": 74,
      "outputs": []
    },
    {
      "cell_type": "code",
      "source": [
        "spark = (SparkSession\n",
        "        .builder\n",
        "        .appName('Lab 3 - SparkML: Regression')\n",
        "        .getOrCreate()\n",
        ")\n",
        "spark.conf.set(\"spark.sql.execution.arrow.pyspark.enabled\", True)"
      ],
      "metadata": {
        "id": "vdGYbMh1qhE4"
      },
      "execution_count": 5,
      "outputs": []
    },
    {
      "cell_type": "markdown",
      "source": [
        "# Load train and test datasets into Pyspark"
      ],
      "metadata": {
        "id": "yvQHktrs3Cra"
      }
    },
    {
      "cell_type": "code",
      "source": [
        "data = spark.read.csv(\"sales_train.csv\", header = True, inferSchema = True)\n",
        "test = spark.read.csv(\"test.csv\", header=True, inferSchema=True)"
      ],
      "metadata": {
        "id": "xIlyH-tBPGDJ"
      },
      "execution_count": 6,
      "outputs": []
    },
    {
      "cell_type": "markdown",
      "source": [
        "# Raw data overview\n",
        "Firstly, let's see what the raw data looks like."
      ],
      "metadata": {
        "id": "5nmhs05pc39_"
      }
    },
    {
      "cell_type": "code",
      "source": [
        "# Print the dataframe schema\n",
        "print(\"Training data schema\")\n",
        "data.printSchema()\n",
        "print(\"Test data schema\")\n",
        "test.printSchema()"
      ],
      "metadata": {
        "id": "cxW10gAMojsF",
        "colab": {
          "base_uri": "https://localhost:8080/"
        },
        "outputId": "81b25a0b-9506-4705-9081-46b5d6213e50"
      },
      "execution_count": null,
      "outputs": [
        {
          "output_type": "stream",
          "name": "stdout",
          "text": [
            "Training data schema\n",
            "root\n",
            " |-- date: string (nullable = true)\n",
            " |-- date_block_num: integer (nullable = true)\n",
            " |-- shop_id: integer (nullable = true)\n",
            " |-- item_id: integer (nullable = true)\n",
            " |-- item_price: double (nullable = true)\n",
            " |-- item_cnt_day: double (nullable = true)\n",
            "\n",
            "Test data schema\n",
            "root\n",
            " |-- ID: integer (nullable = true)\n",
            " |-- shop_id: integer (nullable = true)\n",
            " |-- item_id: integer (nullable = true)\n",
            "\n"
          ]
        }
      ]
    },
    {
      "cell_type": "code",
      "source": [
        "# See the first 10 samples\n",
        "data.show(10)"
      ],
      "metadata": {
        "id": "_iDacPV6FWne",
        "colab": {
          "base_uri": "https://localhost:8080/"
        },
        "outputId": "252c8ec6-76e3-4839-9d81-e49f2b3804eb"
      },
      "execution_count": null,
      "outputs": [
        {
          "output_type": "stream",
          "name": "stdout",
          "text": [
            "+----------+--------------+-------+-------+----------+------------+\n",
            "|      date|date_block_num|shop_id|item_id|item_price|item_cnt_day|\n",
            "+----------+--------------+-------+-------+----------+------------+\n",
            "|02.01.2013|             0|     59|  22154|     999.0|         1.0|\n",
            "|03.01.2013|             0|     25|   2552|     899.0|         1.0|\n",
            "|05.01.2013|             0|     25|   2552|     899.0|        -1.0|\n",
            "|06.01.2013|             0|     25|   2554|   1709.05|         1.0|\n",
            "|15.01.2013|             0|     25|   2555|    1099.0|         1.0|\n",
            "|10.01.2013|             0|     25|   2564|     349.0|         1.0|\n",
            "|02.01.2013|             0|     25|   2565|     549.0|         1.0|\n",
            "|04.01.2013|             0|     25|   2572|     239.0|         1.0|\n",
            "|11.01.2013|             0|     25|   2572|     299.0|         1.0|\n",
            "|03.01.2013|             0|     25|   2573|     299.0|         3.0|\n",
            "+----------+--------------+-------+-------+----------+------------+\n",
            "only showing top 10 rows\n",
            "\n"
          ]
        }
      ]
    },
    {
      "cell_type": "markdown",
      "source": [
        "Let's generate a summary of the whole dataframe to have a better understanding of the problem"
      ],
      "metadata": {
        "id": "CbY-GVPvrBqL"
      }
    },
    {
      "cell_type": "code",
      "source": [
        "print(\"Column number:\", len(data.columns))\n",
        "print(\"Raw data summary:\")\n",
        "data.summary().show()"
      ],
      "metadata": {
        "id": "vhlNEeTyq-7_",
        "colab": {
          "base_uri": "https://localhost:8080/"
        },
        "outputId": "4df21676-c9b0-46c5-b1c0-8243ad46b5f4"
      },
      "execution_count": null,
      "outputs": [
        {
          "output_type": "stream",
          "name": "stdout",
          "text": [
            "Column number: 6\n",
            "Raw data summary:\n",
            "+-------+----------+-----------------+------------------+------------------+------------------+-----------------+\n",
            "|summary|      date|   date_block_num|           shop_id|           item_id|        item_price|     item_cnt_day|\n",
            "+-------+----------+-----------------+------------------+------------------+------------------+-----------------+\n",
            "|  count|   2935849|          2935849|           2935849|           2935849|           2935849|          2935849|\n",
            "|   mean|      null|14.56991146343017|33.001728290521754|10197.227056977385| 890.8532326980396|1.242640885140891|\n",
            "| stddev|      null|9.422987708755963| 16.22697304833343|6324.2973538912065|1729.7996307126489|2.618834430895435|\n",
            "|    min|01.01.2013|                0|                 0|                 0|              -1.0|            -22.0|\n",
            "|    25%|      null|                7|                22|              4476|             249.0|              1.0|\n",
            "|    50%|      null|               14|                31|              9343|             399.0|              1.0|\n",
            "|    75%|      null|               23|                47|             15684|             999.0|              1.0|\n",
            "|    max|31.12.2014|               33|                59|             22169|          307980.0|           2169.0|\n",
            "+-------+----------+-----------------+------------------+------------------+------------------+-----------------+\n",
            "\n"
          ]
        }
      ]
    },
    {
      "cell_type": "markdown",
      "source": [
        "From the summary, we can see the dataset has a shape of (2935849,6). This is a time series where the sales count not only depends on the price but also depends on the dates. There's also the fact that the problem requires us to predict the sales count by month while this dataset is indexed by date, so some aggregation must be done on this dataframe.  \n",
        "Judging from the summary (mean, std, min, max) of item_price and item_cnt_day, there're definitely outliers in the data, and maybe some missing values.  \n",
        "Because the basic Spark MLlib library doesn't have any class for time series modeling, we must perform some feature engineering to convert this dataset from a time series forecasting problem to a regression problem so we can fit it with SparkML's regressors."
      ],
      "metadata": {
        "id": "RgqU6n_qsYes"
      }
    },
    {
      "cell_type": "markdown",
      "source": [
        "# Data preprocessing\n",
        "To prevent data leakage problem, we remove any item in training set which doesn't exist in test set. With Spark, this can be done by doing a semi join."
      ],
      "metadata": {
        "id": "0J6EZQWazIKM"
      }
    },
    {
      "cell_type": "code",
      "source": [
        "# Perform semi join\n",
        "train = (data.join(test, [\"shop_id\", \"item_id\"], \"semi\")\n",
        "              .select(data.columns))\n",
        "# See if the number of rows decreases\n",
        "print(\"Rows after joining:\", train.count())\n",
        "print(\"Summary:\")\n",
        "train.summary().show()"
      ],
      "metadata": {
        "id": "k3YaR3C3ze3y",
        "colab": {
          "base_uri": "https://localhost:8080/"
        },
        "outputId": "b0abe75b-f2cf-4169-b1d4-f80ca4bec744"
      },
      "execution_count": 7,
      "outputs": [
        {
          "output_type": "stream",
          "name": "stdout",
          "text": [
            "Rows after joining: 1224439\n",
            "Summary:\n",
            "+-------+----------+------------------+------------------+------------------+------------------+-----------------+\n",
            "|summary|      date|    date_block_num|           shop_id|           item_id|        item_price|     item_cnt_day|\n",
            "+-------+----------+------------------+------------------+------------------+------------------+-----------------+\n",
            "|  count|   1224439|           1224439|           1224439|           1224439|           1224439|          1224439|\n",
            "|   mean|      null|19.354722448402903| 32.15116637088495| 9614.865821817175|1030.6659907978053|1.321234459209483|\n",
            "| stddev|      null|  9.11072237679056|16.465624442549235|6299.8703350761325|1827.3837613285657|3.312996878793288|\n",
            "|    min|01.01.2013|                 0|                 2|                30|               0.5|            -16.0|\n",
            "|    25%|      null|                12|                19|              4181|             299.0|              1.0|\n",
            "|    50%|      null|                21|                31|              7856|             549.0|              1.0|\n",
            "|    75%|      null|                27|                46|             15232|            1199.0|              1.0|\n",
            "|    max|31.12.2014|                33|                59|             22167|           59200.0|           2169.0|\n",
            "+-------+----------+------------------+------------------+------------------+------------------+-----------------+\n",
            "\n"
          ]
        }
      ]
    },
    {
      "cell_type": "markdown",
      "source": [
        "We can consider the negative item prices and counts as outliers and remove them beforehand to calculate the mean price and sales better."
      ],
      "metadata": {
        "id": "AKlWqW3pihjv"
      }
    },
    {
      "cell_type": "code",
      "source": [
        "train = train.where((train.item_price >= 0) & (train.item_cnt_day >= 0))\n",
        "train.count()"
      ],
      "metadata": {
        "colab": {
          "base_uri": "https://localhost:8080/"
        },
        "id": "mlKT-G41ioT9",
        "outputId": "0822d791-c561-4d7c-fde2-ab1c62a70021"
      },
      "execution_count": 8,
      "outputs": [
        {
          "output_type": "execute_result",
          "data": {
            "text/plain": [
              "1221498"
            ]
          },
          "metadata": {},
          "execution_count": 8
        }
      ]
    },
    {
      "cell_type": "markdown",
      "source": [
        "Group the data by month block index, shop id and item id.  \n",
        "Then perform aggregation to create new features based on each (month, shop, item) tuple."
      ],
      "metadata": {
        "id": "SQciDvWgYVoP"
      }
    },
    {
      "cell_type": "code",
      "source": [
        "train = (\n",
        "    train.groupBy([\"date_block_num\", \"shop_id\", \"item_id\"]).agg(\n",
        "        f.sum(\"item_price\").alias(\"all_itemPrice_month\"), # Sum of item prices by each item per month\n",
        "        f.mean(\"item_price\").alias(\"mean_itemPrice_month\"), # Mean of item prices by each item per month\n",
        "        f.sum(\"item_cnt_day\").alias(\"item_cnt_month\"), # Total item sold per month\n",
        "        f.mean(\"item_cnt_day\").alias(\"mean_itemCnt_month\"), # Mean of item sold per month\n",
        "        f.count(\"item_cnt_day\").alias(\"days_sold_month\") # Number of days the item is sold each month\n",
        "    ).withColumnRenamed(\"date_block_num\", \"month_index\")\n",
        ")"
      ],
      "metadata": {
        "id": "OFV3KNPzW1Ag"
      },
      "execution_count": 9,
      "outputs": []
    },
    {
      "cell_type": "code",
      "source": [
        "train.summary().show()"
      ],
      "metadata": {
        "colab": {
          "base_uri": "https://localhost:8080/"
        },
        "id": "JL3PfIusprfO",
        "outputId": "a76494a9-dfdf-410a-94f5-51f791377d22"
      },
      "execution_count": null,
      "outputs": [
        {
          "output_type": "stream",
          "name": "stdout",
          "text": [
            "+-------+------------------+-----------------+-----------------+-------------------+--------------------+------------------+------------------+------------------+\n",
            "|summary|       month_index|          shop_id|          item_id|all_itemPrice_month|mean_itemPrice_month|    item_cnt_month|mean_itemCnt_month|   days_sold_month|\n",
            "+-------+------------------+-----------------+-----------------+-------------------+--------------------+------------------+------------------+------------------+\n",
            "|  count|            599912|           599912|           599912|             599912|              599912|            599912|            599912|            599912|\n",
            "|   mean|20.158761618370693|32.06313926042486|10015.36912747203|  2095.652567542916|   911.0195486812893| 2.701724586272653|1.0957363340076394|2.0361286321993894|\n",
            "| stddev| 9.139259988979074|16.88954154941829| 6192.91195449407|  6988.195273079581|  1563.8147208759856|11.292583509624817| 1.765562879428182|2.3191656679151755|\n",
            "|    min|                 0|                2|               30|                0.5|                 0.5|               1.0|               1.0|                 1|\n",
            "|    25%|                13|               19|             4395|              299.0|               299.0|               1.0|               1.0|                 1|\n",
            "|    50%|                22|               31|             9089|              745.0|              474.11|               1.0|               1.0|                 1|\n",
            "|    75%|                28|               47|            15375|            1839.57|              1099.0|               2.0|               1.0|                 2|\n",
            "|    max|                33|               59|            22167|     515573.5897436|             42990.0|            2253.0|            1000.0|                31|\n",
            "+-------+------------------+-----------------+-----------------+-------------------+--------------------+------------------+------------------+------------------+\n",
            "\n"
          ]
        }
      ]
    },
    {
      "cell_type": "markdown",
      "source": [
        "From the summary, there are definitely outliers in all_itemPrice_month and item_cnt_month since their max values are so far away from the mean values. Let's make some boxplots to check for outliers in these 2 features. Since the data is in a Spark dataframe, we will select the features into 2 Spark RDDs then map the values to a list so they can be indexed by matplotlib.  \n",
        "Since the dataset is small enough to fit into Google Colab runtime memory, we can use the whole data. But if the data size gets too large, we should take random samples with a sampling ratio of 10% (0.1), or 1000 samples."
      ],
      "metadata": {
        "id": "CBdp5FP7IT8I"
      }
    },
    {
      "cell_type": "code",
      "source": [
        "# Map the 2 features into 2 lists (use a seed of 19127191 to keep the sample results across different runs)\n",
        "sampling_ratio = 1 # Change this if the data size is too large\n",
        "itemPrices = train.select(\"all_itemPrice_month\").rdd.map(lambda row: row.all_itemPrice_month).sample(False, sampling_ratio, 19127191).collect()\n",
        "itemCounts = train.select(\"item_cnt_month\").rdd.map(lambda row: row.item_cnt_month).sample(False, sampling_ratio, 19127191).collect()"
      ],
      "metadata": {
        "id": "AhYTzZ8RROZn"
      },
      "execution_count": 10,
      "outputs": []
    },
    {
      "cell_type": "code",
      "source": [
        "# Draw boxplots of the 2 features to check for outliers\n",
        "# Item prices\n",
        "plt.boxplot(itemPrices, sym='k.')\n",
        "plt.yticks(np.arange(0, 550000, 50000))\n",
        "plt.title(\"Boxplot of item prices\")\n",
        "plt.show()\n",
        "\n",
        "print()\n",
        "# Item sales\n",
        "plt.boxplot(itemCounts, sym='k.')\n",
        "plt.yticks(np.arange(0, 2400, 200))\n",
        "plt.title(\"Boxplot of item sale counts\")\n",
        "plt.show()"
      ],
      "metadata": {
        "colab": {
          "base_uri": "https://localhost:8080/",
          "height": 562
        },
        "id": "UD9oCAhWWIdw",
        "outputId": "7b33dc06-bdcc-45a6-9c16-b871a7ba40d9"
      },
      "execution_count": null,
      "outputs": [
        {
          "output_type": "display_data",
          "data": {
            "text/plain": [
              "<Figure size 432x288 with 1 Axes>"
            ],
            "image/png": "[encoded data removed]"
          },
          "metadata": {
            "needs_background": "light"
          }
        },
        {
          "output_type": "stream",
          "name": "stdout",
          "text": [
            "\n"
          ]
        },
        {
          "output_type": "display_data",
          "data": {
            "text/plain": [
              "<Figure size 432x288 with 1 Axes>"
            ],
            "image/png": "[encoded data removed]"
          },
          "metadata": {
            "needs_background": "light"
          }
        }
      ]
    },
    {
      "cell_type": "markdown",
      "source": [
        "From the boxplots, we can treat any price sum > 400000 or monthly sale count > 800 as outliers"
      ],
      "metadata": {
        "id": "cf_VaBXlrmGe"
      }
    },
    {
      "cell_type": "code",
      "source": [
        "train = train.where((train.all_itemPrice_month <= 400000) & (train.item_cnt_month <= 800))\n",
        "train.count()"
      ],
      "metadata": {
        "colab": {
          "base_uri": "https://localhost:8080/"
        },
        "id": "LAQN0SRDuRtp",
        "outputId": "2d9b096f-1da7-45f9-f7c4-8a96ef89bb2c"
      },
      "execution_count": 11,
      "outputs": [
        {
          "output_type": "execute_result",
          "data": {
            "text/plain": [
              "599887"
            ]
          },
          "metadata": {},
          "execution_count": 11
        }
      ]
    },
    {
      "cell_type": "markdown",
      "source": [
        "Generate all posible combinations of month indices, shop ids and item ids. This is for later when we create lag features from time series, an item maybe available at a certain month, but not all months before that, which will make it impossible to create lag features for that item. So we need these combinations to fill in the missing records."
      ],
      "metadata": {
        "id": "-SnIJCrAf7Yf"
      }
    },
    {
      "cell_type": "code",
      "source": [
        "combinations = (\n",
        "    (train.select(\"month_index\").distinct()).crossJoin(\n",
        "        train.select(\"shop_id\").distinct())\n",
        "    ).crossJoin(\n",
        "        train.select(\"item_id\").distinct()\n",
        "    )"
      ],
      "metadata": {
        "id": "-goir0iBjTyq"
      },
      "execution_count": 12,
      "outputs": []
    },
    {
      "cell_type": "markdown",
      "source": [
        "To fill the missing records with these combinations, simply do a right outer join. Then fill the missing values with 0."
      ],
      "metadata": {
        "id": "wWk-3KH6luXw"
      }
    },
    {
      "cell_type": "code",
      "source": [
        "train_monthly = train.join(combinations, [\"month_index\", \"shop_id\", \"item_id\"], \"rightouter\")\n",
        "train_monthly = train_monthly.fillna(0)\n",
        "\n",
        "# Perform a sort operation to keep the time series order\n",
        "train_monthly = train_monthly.orderBy([\"month_index\", \"shop_id\", \"item_id\"], ascending=[1,1,1])"
      ],
      "metadata": {
        "id": "CVe_1QH5l2HQ"
      },
      "execution_count": 13,
      "outputs": []
    },
    {
      "cell_type": "markdown",
      "source": [
        "Now let's see what our new dataset looks like"
      ],
      "metadata": {
        "id": "kXBGqKTQqPKU"
      }
    },
    {
      "cell_type": "code",
      "source": [
        "print(\"10 first samples:\")\n",
        "train_monthly.show(10)\n",
        "print(\"Summary:\")\n",
        "train_monthly.summary().show()"
      ],
      "metadata": {
        "colab": {
          "base_uri": "https://localhost:8080/"
        },
        "id": "5nKceJPpqVZi",
        "outputId": "2e0aa4b4-4fc5-4f86-ccdd-d7a654396e7c"
      },
      "execution_count": null,
      "outputs": [
        {
          "output_type": "stream",
          "name": "stdout",
          "text": [
            "10 first samples:\n",
            "+-----------+-------+-------+-------------------+--------------------+--------------+------------------+---------------+\n",
            "|month_index|shop_id|item_id|all_itemPrice_month|mean_itemPrice_month|item_cnt_month|mean_itemCnt_month|days_sold_month|\n",
            "+-----------+-------+-------+-------------------+--------------------+--------------+------------------+---------------+\n",
            "|          0|      2|     30|                0.0|                 0.0|           0.0|               0.0|              0|\n",
            "|          0|      2|     31|                0.0|                 0.0|           0.0|               0.0|              0|\n",
            "|          0|      2|     32|                0.0|                 0.0|           0.0|               0.0|              0|\n",
            "|          0|      2|     33|              499.0|               499.0|           1.0|               1.0|              1|\n",
            "|          0|      2|     38|                0.0|                 0.0|           0.0|               0.0|              0|\n",
            "|          0|      2|     42|                0.0|                 0.0|           0.0|               0.0|              0|\n",
            "|          0|      2|     45|                0.0|                 0.0|           0.0|               0.0|              0|\n",
            "|          0|      2|     51|                0.0|                 0.0|           0.0|               0.0|              0|\n",
            "|          0|      2|     53|                0.0|                 0.0|           0.0|               0.0|              0|\n",
            "|          0|      2|     57|                0.0|                 0.0|           0.0|               0.0|              0|\n",
            "+-----------+-------+-------+-------------------+--------------------+--------------+------------------+---------------+\n",
            "only showing top 10 rows\n",
            "\n",
            "Summary:\n",
            "+-------+-----------------+------------------+-----------------+-------------------+--------------------+-------------------+-------------------+------------------+\n",
            "|summary|      month_index|           shop_id|          item_id|all_itemPrice_month|mean_itemPrice_month|     item_cnt_month| mean_itemCnt_month|   days_sold_month|\n",
            "+-------+-----------------+------------------+-----------------+-------------------+--------------------+-------------------+-------------------+------------------+\n",
            "|  count|          6734448|           6734448|          6734448|            6734448|             6734448|            6734448|            6734448|           6734448|\n",
            "|   mean|             16.5|31.642857142857142|11041.89016115352| 185.94676008986008|   81.11693847135855|0.23830475786582656|0.09737376058150372|0.1812939976669209|\n",
            "| stddev|9.810709163570774|17.561893799490097|6210.744436176283| 2092.1238974268977|   533.2408246982641| 3.0459167085111263|0.47134094209744065|0.9018591884277373|\n",
            "|    min|                0|                 2|               30|                0.0|                 0.0|                0.0|                0.0|                 0|\n",
            "|    25%|                8|                16|             5386|                0.0|                 0.0|                0.0|                0.0|                 0|\n",
            "|    50%|               16|                35|            11266|                0.0|                 0.0|                0.0|                0.0|                 0|\n",
            "|    75%|               25|                47|            16069|                0.0|                 0.0|                0.0|                0.0|                 0|\n",
            "|    max|               33|                59|            22167|     388163.3333334|             42990.0|              799.0|              500.0|                31|\n",
            "+-------+-----------------+------------------+-----------------+-------------------+--------------------+-------------------+-------------------+------------------+\n",
            "\n"
          ]
        }
      ]
    },
    {
      "cell_type": "markdown",
      "source": [
        "# Exploratory Data Analysis (EDA)  \n",
        "Add columns for the date and month of each sale records, we'll use this to analyze the sale trend of the time series."
      ],
      "metadata": {
        "id": "ukz_Pl0rzauu"
      }
    },
    {
      "cell_type": "code",
      "source": [
        "train_monthly = (\n",
        "    train_monthly.withColumn(\"month\", train_monthly.month_index % 12)\n",
        "                 .withColumn(\"year\", (train_monthly.month_index / 12).cast(\"int\") + 2013)\n",
        ")\n",
        "train_monthly.columns"
      ],
      "metadata": {
        "colab": {
          "base_uri": "https://localhost:8080/"
        },
        "id": "pJhkX6wdwK6H",
        "outputId": "27a6b3ca-3e4d-4b1a-bcc1-2230e39f8dba"
      },
      "execution_count": 14,
      "outputs": [
        {
          "output_type": "execute_result",
          "data": {
            "text/plain": [
              "['month_index',\n",
              " 'shop_id',\n",
              " 'item_id',\n",
              " 'all_itemPrice_month',\n",
              " 'mean_itemPrice_month',\n",
              " 'item_cnt_month',\n",
              " 'mean_itemCnt_month',\n",
              " 'days_sold_month',\n",
              " 'month',\n",
              " 'year']"
            ]
          },
          "metadata": {},
          "execution_count": 14
        }
      ]
    },
    {
      "cell_type": "markdown",
      "source": [
        "Calculate the mean and sum of sales for each month label. Then plot them on a line plot to see how the sales trend and seasonality over the years."
      ],
      "metadata": {
        "id": "xuWwIduQCM3F"
      }
    },
    {
      "cell_type": "code",
      "source": [
        "# Perform aggregation\n",
        "month_index_means = train_monthly.groupBy(\"month_index\").agg(f.mean(\"item_cnt_month\").alias(\"month_index_mean\")).orderBy(\"month_index\")\n",
        "month_means = train_monthly.groupBy(\"month\").agg(f.mean(\"item_cnt_month\").alias(\"month_mean\")).orderBy(\"month\")"
      ],
      "metadata": {
        "id": "JqiRppceCqot"
      },
      "execution_count": 15,
      "outputs": []
    },
    {
      "cell_type": "code",
      "source": [
        "# Convert the data to a list using Spark RDD then plot it with mathplotlib\n",
        "months = range(12)\n",
        "month_indices = range(34)\n",
        "lMonthMean = month_means.rdd.map(lambda row: row.month_mean).collect()\n",
        "lMonthIdxMean = month_index_means.rdd.map(lambda row: row.month_index_mean).collect()\n",
        "\n",
        "# Plot the lines\n",
        "plt.plot(month_indices, lMonthIdxMean)\n",
        "plt.xlabel(\"Month Index\")\n",
        "plt.ylabel(\"Mean of sale counts per month\")\n",
        "plt.title(\"Mean sales per month of all time\")\n",
        "plt.show()\n",
        "print()\n",
        "plt.plot(months, lMonthMean)\n",
        "plt.xlabel(\"Month of a year\")\n",
        "plt.ylabel(\"Mean of sale counts per month\")\n",
        "plt.title(\"Mean sales per month in a year\")\n",
        "plt.show()"
      ],
      "metadata": {
        "colab": {
          "base_uri": "https://localhost:8080/",
          "height": 590
        },
        "id": "Uaf8TS-eFH-f",
        "outputId": "9ffe3d75-a3c4-4626-81e7-548cef67461c"
      },
      "execution_count": 16,
      "outputs": [
        {
          "output_type": "display_data",
          "data": {
            "text/plain": [
              "<Figure size 432x288 with 1 Axes>"
            ],
            "image/png": "[encoded data removed]"
          },
          "metadata": {
            "needs_background": "light"
          }
        },
        {
          "output_type": "stream",
          "name": "stdout",
          "text": [
            "\n"
          ]
        },
        {
          "output_type": "display_data",
          "data": {
            "text/plain": [
              "<Figure size 432x288 with 1 Axes>"
            ],
            "image/png": "[encoded data removed]"
          },
          "metadata": {
            "needs_background": "light"
          }
        }
      ]
    },
    {
      "cell_type": "markdown",
      "source": [
        "As we can see from the first figure, there's a certain trend where the overall sales count gradually goes up over the years. There're also some patterns (seasonality) in the data where the sales count spikes up a lot toward the end of each year and some small spikes every 3 months.  \n",
        "We must take these trend and seasonality into account during the feature engineering process."
      ],
      "metadata": {
        "id": "1b4k-F54JBmG"
      }
    },
    {
      "cell_type": "markdown",
      "source": [
        "# Feature engineering  \n",
        "After performing pre-processing and analysis, we will start converting the time series data to regression data. First of all, let's create the prediction column for our data.  \n",
        "Originally, this dataset uses item_cnt_month for the target column. However, as a time series, what we aim to predict is the sales value for the next month. To convert this problem to a regression problem, we add a column that says \"sales prediction for next month\" using the sales in the row following the current row. This will be our target column."
      ],
      "metadata": {
        "id": "QgpJ5VPaKJCQ"
      }
    },
    {
      "cell_type": "code",
      "source": [
        "# Create windows for constructing lag features and rolling-window features\n",
        "window = Window.orderBy(\"month_index\").partitionBy([\"shop_id\", \"item_id\"])\n",
        "rolling_window = Window.orderBy(\"month_index\").partitionBy([\"shop_id\", \"item_id\"]).rangeBetween(-2, 0) # rolling window with size 3"
      ],
      "metadata": {
        "id": "-OaIbw0tS6Vx"
      },
      "execution_count": 18,
      "outputs": []
    },
    {
      "cell_type": "code",
      "source": [
        "# Use the select() function to add columns to the dataframe\n",
        "# Then use the lag() function to shift the item_cnt_month column upward (next row value is shifted to current row)\n",
        "train_monthly = train_monthly.select(\n",
        "    \"*\",\n",
        "    f.lag(\"item_cnt_month\", offset=-1, default=0).over(window).alias(\"itemCnt_nextMonth\")\n",
        ")"
      ],
      "metadata": {
        "id": "T5PD1qsnSkWq"
      },
      "execution_count": 19,
      "outputs": []
    },
    {
      "cell_type": "markdown",
      "source": [
        "Next, let's create some lag-based features. Since we are concerned with the trend-cycle of the time series, we will calculate the moving average trend using the current month and the last 2 months (lag-1, lag-2), then detrend the item_cnt_month by subtracting the moving average trend from said column, the detrended item_cnt_month can be a feature for our models to learn."
      ],
      "metadata": {
        "id": "OB_aqqM7YtKR"
      }
    },
    {
      "cell_type": "code",
      "source": [
        "# Create lag-1 and lag-2\n",
        "train_monthly = train_monthly.select(\n",
        "    \"*\",\n",
        "    f.lag(\"item_cnt_month\", offset=1, default=0).over(window).alias(\"itemCnt_lag_1\"),\n",
        "    f.lag(\"item_cnt_month\", offset=2, default=0).over(window).alias(\"itemCnt_lag_2\")\n",
        ")"
      ],
      "metadata": {
        "id": "vjxLRsocsGvA"
      },
      "execution_count": 20,
      "outputs": []
    },
    {
      "cell_type": "code",
      "source": [
        "# Create the itemCnt_trendCycle feature\n",
        "train_monthly = train_monthly.withColumn(\n",
        "    \"itemCnt_trendCycle\",\n",
        "    (train_monthly.item_cnt_month - train_monthly.itemCnt_lag_1 - train_monthly.itemCnt_lag_2) / 3\n",
        ")"
      ],
      "metadata": {
        "id": "wlla8oqdsg48"
      },
      "execution_count": 21,
      "outputs": []
    },
    {
      "cell_type": "markdown",
      "source": [
        "Now we add some rolling-window features of the item_cnt_month. We'll use min, max, mean, standard deviation of item_cnt_month over 3 months: current and last 2 months."
      ],
      "metadata": {
        "id": "TvW7IXYfuGgs"
      }
    },
    {
      "cell_type": "code",
      "source": [
        "train_monthly = (train_monthly.withColumn(\"item_cnt_min\", f.min(\"item_cnt_month\").over(rolling_window))\n",
        "                              .withColumn(\"item_cnt_max\", f.max(\"item_cnt_month\").over(rolling_window))\n",
        "                              .withColumn(\"item_cnt_mean\", f.mean(\"item_cnt_month\").over(rolling_window))\n",
        "                              .withColumn(\"item_cnt_std\", f.stddev(\"item_cnt_month\").over(rolling_window))\n",
        ")"
      ],
      "metadata": {
        "id": "nWXxRg7Gu7z9"
      },
      "execution_count": 22,
      "outputs": []
    },
    {
      "cell_type": "code",
      "source": [
        "# Fill in the missing values from the new features\n",
        "train_monthly = train_monthly.fillna(0)"
      ],
      "metadata": {
        "id": "3XJJwFKWzp4u"
      },
      "execution_count": 23,
      "outputs": []
    },
    {
      "cell_type": "markdown",
      "source": [
        "Now let's see our dataset summary after feature engineering."
      ],
      "metadata": {
        "id": "vWvNQHfp2I0R"
      }
    },
    {
      "cell_type": "code",
      "source": [
        "print(\"First 10 samples:\")\n",
        "train_monthly.show(10)\n",
        "print(\"Summary:\")\n",
        "train_monthly.summary().show()"
      ],
      "metadata": {
        "colab": {
          "base_uri": "https://localhost:8080/"
        },
        "id": "3PBTqdd12U_4",
        "outputId": "aea31d76-501c-4065-f910-65ba76bd4f3f"
      },
      "execution_count": null,
      "outputs": [
        {
          "output_type": "stream",
          "name": "stdout",
          "text": [
            "First 10 samples:\n",
            "+-----------+-------+-------+-------------------+--------------------+--------------+------------------+---------------+-----+----+-----------------+-------------+-------------+-------------------+------------+------------+------------------+------------------+\n",
            "|month_index|shop_id|item_id|all_itemPrice_month|mean_itemPrice_month|item_cnt_month|mean_itemCnt_month|days_sold_month|month|year|itemCnt_nextMonth|itemCnt_lag_1|itemCnt_lag_2| itemCnt_trendCycle|item_cnt_min|item_cnt_max|     item_cnt_mean|      item_cnt_std|\n",
            "+-----------+-------+-------+-------------------+--------------------+--------------+------------------+---------------+-----+----+-----------------+-------------+-------------+-------------------+------------+------------+------------------+------------------+\n",
            "|          0|      2|     31|                0.0|                 0.0|           0.0|               0.0|              0|    0|2013|              4.0|          0.0|          0.0|                0.0|         0.0|         0.0|               0.0|               0.0|\n",
            "|          1|      2|     31|             2796.0|               699.0|           4.0|               1.0|              4|    1|2013|              1.0|          0.0|          0.0| 1.3333333333333333|         0.0|         4.0|               2.0|2.8284271247461903|\n",
            "|          2|      2|     31|              698.5|               698.5|           1.0|               1.0|              1|    2|2013|              1.0|          4.0|          0.0|               -1.0|         0.0|         4.0|1.6666666666666667|2.0816659994661326|\n",
            "|          3|      2|     31|              699.0|               699.0|           1.0|               1.0|              1|    3|2013|              0.0|          1.0|          4.0|-1.3333333333333333|         1.0|         4.0|               2.0|1.7320508075688772|\n",
            "|          4|      2|     31|                0.0|                 0.0|           0.0|               0.0|              0|    4|2013|              0.0|          1.0|          1.0|-0.6666666666666666|         0.0|         1.0|0.6666666666666666|0.5773502691896258|\n",
            "|          5|      2|     31|                0.0|                 0.0|           0.0|               0.0|              0|    5|2013|              0.0|          0.0|          1.0|-0.3333333333333333|         0.0|         1.0|0.3333333333333333|0.5773502691896258|\n",
            "|          6|      2|     31|                0.0|                 0.0|           0.0|               0.0|              0|    6|2013|              0.0|          0.0|          0.0|                0.0|         0.0|         0.0|               0.0|               0.0|\n",
            "|          7|      2|     31|                0.0|                 0.0|           0.0|               0.0|              0|    7|2013|              0.0|          0.0|          0.0|                0.0|         0.0|         0.0|               0.0|               0.0|\n",
            "|          8|      2|     31|                0.0|                 0.0|           0.0|               0.0|              0|    8|2013|              0.0|          0.0|          0.0|                0.0|         0.0|         0.0|               0.0|               0.0|\n",
            "|          9|      2|     31|                0.0|                 0.0|           0.0|               0.0|              0|    9|2013|              0.0|          0.0|          0.0|                0.0|         0.0|         0.0|               0.0|               0.0|\n",
            "+-----------+-------+-------+-------------------+--------------------+--------------+------------------+---------------+-----+----+-----------------+-------------+-------------+-------------------+------------+------------+------------------+------------------+\n",
            "only showing top 10 rows\n",
            "\n",
            "Summary:\n",
            "+-------+-----------------+------------------+------------------+-------------------+--------------------+-------------------+-------------------+------------------+------------------+------------------+------------------+-------------------+------------------+--------------------+-------------------+------------------+------------------+-------------------+\n",
            "|summary|      month_index|           shop_id|           item_id|all_itemPrice_month|mean_itemPrice_month|     item_cnt_month| mean_itemCnt_month|   days_sold_month|             month|              year| itemCnt_nextMonth|      itemCnt_lag_1|     itemCnt_lag_2|  itemCnt_trendCycle|       item_cnt_min|      item_cnt_max|     item_cnt_mean|       item_cnt_std|\n",
            "+-------+-----------------+------------------+------------------+-------------------+--------------------+-------------------+-------------------+------------------+------------------+------------------+------------------+-------------------+------------------+--------------------+-------------------+------------------+------------------+-------------------+\n",
            "|  count|          6734448|           6734448|           6734448|            6734448|             6734448|            6734448|            6734448|           6734448|           6734448|           6734448|           6734448|            6734448|           6734448|             6734448|            6734448|           6734448|           6734448|            6734448|\n",
            "|   mean|             16.5|31.642857142857142| 11041.89016115352| 185.94676008986175|   81.11693847135935|0.23830475786582656|0.09737376058150567|0.1812939976669209| 5.205882352941177|2013.9411764705883|0.2352353155002459|0.22928946811973305| 0.220534778797015|-0.07050649635036059|0.07779791305835311|0.4378008412864722|0.2324842857701696|0.19807152218198687|\n",
            "| stddev|9.810709163571744| 17.56189379949083|6210.7444361762955|  2092.123897426797|   533.2408246982736| 3.0459167085112058|0.47134094209744837|0.9018591884277187|3.3235296585205805|0.8022460417385037|3.0405347505879803| 3.0087668871464524|2.9758170380641658|  1.3196282619111603| 1.8755919439361777| 4.125534592840336| 2.674389774067606| 1.6973707118784502|\n",
            "|    min|                0|                 2|                30|                0.0|                 0.0|                0.0|                0.0|                 0|                 0|              2013|               0.0|                0.0|               0.0|  -520.6666666666666|                0.0|               0.0|               0.0|                0.0|\n",
            "|    25%|                8|                16|              5386|                0.0|                 0.0|                0.0|                0.0|                 0|                 2|              2013|               0.0|                0.0|               0.0|                 0.0|                0.0|               0.0|               0.0|                0.0|\n",
            "|    50%|               17|                34|             11266|                0.0|                 0.0|                0.0|                0.0|                 0|                 5|              2014|               0.0|                0.0|               0.0|                 0.0|                0.0|               0.0|               0.0|                0.0|\n",
            "|    75%|               25|                47|             16069|                0.0|                 0.0|                0.0|                0.0|                 0|                 8|              2015|               0.0|                0.0|               0.0|                 0.0|                0.0|               0.0|               0.0|                0.0|\n",
            "|    max|               33|                59|             22167|     388163.3333334|             42990.0|              799.0|              500.0|                31|                11|              2015|             799.0|              799.0|             799.0|   258.6666666666667|              764.0|             799.0| 774.3333333333334|   461.302865082511|\n",
            "+-------+-----------------+------------------+------------------+-------------------+--------------------+-------------------+-------------------+------------------+------------------+------------------+------------------+-------------------+------------------+--------------------+-------------------+------------------+------------------+-------------------+\n",
            "\n"
          ]
        }
      ]
    },
    {
      "cell_type": "markdown",
      "source": [
        "# Train-Validation Split  \n",
        "We will use the final month (33) as our test set since we want to use it for predicting the target month. 9 months before that (24-32) will be used for validation and the rest except for first 2 months (2-23) will be used for training."
      ],
      "metadata": {
        "id": "MidaQoAP4vqI"
      }
    },
    {
      "cell_type": "code",
      "source": [
        "# Split the dataframe into 3 sets\n",
        "train_set = train_monthly.where(\"month_index > 1 and month_index < 24\")\n",
        "validation_set = train_monthly.where(\"month_index >= 24 and month_index < 33\")\n",
        "test_set = train_monthly.where(\"month_index == 33\")\n",
        "\n",
        "# Drop rows with null values\n",
        "train_set = train_set.dropna()\n",
        "validation_set = validation_set.dropna()\n",
        "\n",
        "# Print number of records in each set\n",
        "# print('Train set records:', train_set.count())\n",
        "# print('Validation set records:', validation_set.count())\n",
        "# print('Test set records:', test_set.count())"
      ],
      "metadata": {
        "id": "1xx7qpmZ1FsE"
      },
      "execution_count": 103,
      "outputs": []
    },
    {
      "cell_type": "markdown",
      "source": [
        "Let's perform mean encoding to convert categorical features like shop_id, item_id, month, year to continuous features with respect to the target column. This must be done after splitting train/validation dataset to avoid data leakage (model will know about validation data while training)."
      ],
      "metadata": {
        "id": "zZ-2Y57Gycy5"
      }
    },
    {
      "cell_type": "code",
      "source": [
        "# Aggregate the mean encoding of categorical features\n",
        "shop_mean = train_set.groupBy(\"shop_id\").agg(f.mean(\"itemCnt_nextMonth\").alias(\"shop_mean\"))\n",
        "item_mean = train_set.groupBy(\"item_id\").agg(f.mean(\"itemCnt_nextMonth\").alias(\"item_mean\"))\n",
        "year_mean = train_set.groupBy(\"year\").agg(f.mean(\"itemCnt_nextMonth\").alias(\"year_mean\"))\n",
        "month_mean = train_set.groupBy(\"month\").agg(f.mean(\"itemCnt_nextMonth\").alias(\"month_mean\"))"
      ],
      "metadata": {
        "id": "9HzSKKwKHlLp"
      },
      "execution_count": 104,
      "outputs": []
    },
    {
      "cell_type": "code",
      "source": [
        "# Add the mean encoding feature derived from training set to all sets\n",
        "# Training set\n",
        "train_set = train_set.join(shop_mean, [\"shop_id\"], \"left\")\n",
        "train_set = train_set.join(item_mean, [\"item_id\"], \"left\")\n",
        "train_set = train_set.join(year_mean, [\"year\"], \"left\")\n",
        "train_set = train_set.join(month_mean, [\"month\"], \"left\")\n",
        "train_set = train_set.withColumn(\"itemCnt_nextMonth\", f.col(\"itemCnt_nextMonth\").cast(\"int\"))\n",
        "train_set = train_set.drop(\"month_index\") # Drop this column since we already have mean encoding of months and years\n",
        "\n",
        "# Validation set\n",
        "validation_set = validation_set.join(shop_mean, [\"shop_id\"], \"left\")\n",
        "validation_set = validation_set.join(item_mean, [\"item_id\"], \"left\")\n",
        "validation_set = validation_set.join(year_mean, [\"year\"], \"left\")\n",
        "validation_set = validation_set.join(month_mean, [\"month\"], \"left\")\n",
        "validation_set = validation_set.withColumn(\"itemCnt_nextMonth\", f.col(\"itemCnt_nextMonth\").cast(\"int\"))\n",
        "validation_set = validation_set.drop(\"month_index\")\n",
        "\n",
        "# Test set\n",
        "test_set = test_set.join(shop_mean, [\"shop_id\"], \"left\")\n",
        "test_set = test_set.join(item_mean, [\"item_id\"], \"left\")\n",
        "test_set = test_set.join(year_mean, [\"year\"], \"left\")\n",
        "test_set = test_set.join(month_mean, [\"month\"], \"left\")\n",
        "test_set = test_set.withColumn(\"itemCnt_nextMonth\", f.col(\"itemCnt_nextMonth\").cast(\"int\"))\n",
        "test_set = test_set.drop(\"itemCnt_nextMonth\")\n",
        "test_set = test_set.drop(\"month_index\")\n",
        "# Add products which never exist in the training data during the record combination generation phase but is in the testing data\n",
        "test_columns = test_set.columns\n",
        "test_set = test.join(test_set, on=[\"shop_id\", \"item_id\"], how=\"left\")\n",
        "\n",
        "# Reorder columns from all 3 sets to match each other\n",
        "train_set = train_set.select(sorted(train_set.columns))\n",
        "validation_set = validation_set.select(sorted(train_set.columns))\n",
        "test_set = test_set.select(sorted(test_columns))\n",
        "\n",
        "# Fill all null values with 0\n",
        "train_set = train_set.fillna(0)\n",
        "validation_set = validation_set.fillna(0)\n",
        "test_set = test_set.fillna(0)"
      ],
      "metadata": {
        "id": "OiG3-PBYUrVJ"
      },
      "execution_count": 105,
      "outputs": []
    },
    {
      "cell_type": "markdown",
      "source": [
        "Check the schema of training, validation and test set."
      ],
      "metadata": {
        "id": "3raaN60xhaMv"
      }
    },
    {
      "cell_type": "code",
      "source": [
        "train_set.printSchema()\n",
        "validation_set.printSchema()\n",
        "test_set.printSchema()"
      ],
      "metadata": {
        "colab": {
          "base_uri": "https://localhost:8080/"
        },
        "id": "QjIafIN7hfgH",
        "outputId": "da76ccf7-7b25-4150-b782-5d7bc3379b0e"
      },
      "execution_count": 106,
      "outputs": [
        {
          "output_type": "stream",
          "name": "stdout",
          "text": [
            "root\n",
            " |-- all_itemPrice_month: double (nullable = false)\n",
            " |-- days_sold_month: long (nullable = true)\n",
            " |-- itemCnt_lag_1: double (nullable = false)\n",
            " |-- itemCnt_lag_2: double (nullable = false)\n",
            " |-- itemCnt_nextMonth: integer (nullable = true)\n",
            " |-- itemCnt_trendCycle: double (nullable = false)\n",
            " |-- item_cnt_max: double (nullable = false)\n",
            " |-- item_cnt_mean: double (nullable = false)\n",
            " |-- item_cnt_min: double (nullable = false)\n",
            " |-- item_cnt_month: double (nullable = false)\n",
            " |-- item_cnt_std: double (nullable = false)\n",
            " |-- item_id: integer (nullable = true)\n",
            " |-- item_mean: double (nullable = false)\n",
            " |-- mean_itemCnt_month: double (nullable = false)\n",
            " |-- mean_itemPrice_month: double (nullable = false)\n",
            " |-- month: integer (nullable = true)\n",
            " |-- month_mean: double (nullable = false)\n",
            " |-- shop_id: integer (nullable = true)\n",
            " |-- shop_mean: double (nullable = false)\n",
            " |-- year: integer (nullable = true)\n",
            " |-- year_mean: double (nullable = false)\n",
            "\n",
            "root\n",
            " |-- all_itemPrice_month: double (nullable = false)\n",
            " |-- days_sold_month: long (nullable = true)\n",
            " |-- itemCnt_lag_1: double (nullable = false)\n",
            " |-- itemCnt_lag_2: double (nullable = false)\n",
            " |-- itemCnt_nextMonth: integer (nullable = true)\n",
            " |-- itemCnt_trendCycle: double (nullable = false)\n",
            " |-- item_cnt_max: double (nullable = false)\n",
            " |-- item_cnt_mean: double (nullable = false)\n",
            " |-- item_cnt_min: double (nullable = false)\n",
            " |-- item_cnt_month: double (nullable = false)\n",
            " |-- item_cnt_std: double (nullable = false)\n",
            " |-- item_id: integer (nullable = true)\n",
            " |-- item_mean: double (nullable = false)\n",
            " |-- mean_itemCnt_month: double (nullable = false)\n",
            " |-- mean_itemPrice_month: double (nullable = false)\n",
            " |-- month: integer (nullable = true)\n",
            " |-- month_mean: double (nullable = false)\n",
            " |-- shop_id: integer (nullable = true)\n",
            " |-- shop_mean: double (nullable = false)\n",
            " |-- year: integer (nullable = true)\n",
            " |-- year_mean: double (nullable = false)\n",
            "\n",
            "root\n",
            " |-- all_itemPrice_month: double (nullable = false)\n",
            " |-- days_sold_month: long (nullable = true)\n",
            " |-- itemCnt_lag_1: double (nullable = false)\n",
            " |-- itemCnt_lag_2: double (nullable = false)\n",
            " |-- itemCnt_trendCycle: double (nullable = false)\n",
            " |-- item_cnt_max: double (nullable = false)\n",
            " |-- item_cnt_mean: double (nullable = false)\n",
            " |-- item_cnt_min: double (nullable = false)\n",
            " |-- item_cnt_month: double (nullable = false)\n",
            " |-- item_cnt_std: double (nullable = false)\n",
            " |-- item_id: integer (nullable = true)\n",
            " |-- item_mean: double (nullable = false)\n",
            " |-- mean_itemCnt_month: double (nullable = false)\n",
            " |-- mean_itemPrice_month: double (nullable = false)\n",
            " |-- month: integer (nullable = true)\n",
            " |-- month_mean: double (nullable = false)\n",
            " |-- shop_id: integer (nullable = true)\n",
            " |-- shop_mean: double (nullable = false)\n",
            " |-- year: integer (nullable = true)\n",
            " |-- year_mean: double (nullable = false)\n",
            "\n"
          ]
        }
      ]
    },
    {
      "cell_type": "markdown",
      "source": [
        "Finally, we restructure the dataframes using VectorAssembler so they can be used with Spark ML models."
      ],
      "metadata": {
        "id": "TwO10bz1pOcB"
      }
    },
    {
      "cell_type": "code",
      "source": [
        "# Restructure training set\n",
        "inputColumns = train_set.drop(\"itemCnt_nextMonth\").columns\n",
        "assembler1 = VectorAssembler(inputCols=inputColumns, outputCol=\"features\")\n",
        "train_assembled = assembler1.transform(train_set).select([\"features\", \"itemCnt_nextMonth\"])\n",
        "\n",
        "# Restructure validation set\n",
        "inputColumns = validation_set.drop(\"itemCnt_nextMonth\").columns\n",
        "assembler2 = VectorAssembler(inputCols=inputColumns, outputCol=\"features\")\n",
        "validation_assembled = assembler2.transform(validation_set).select([\"features\", \"itemCnt_nextMonth\"])\n",
        "\n",
        "# Restructure test set\n",
        "inputColumns = test_set.columns\n",
        "assembler3 = VectorAssembler(inputCols=inputColumns, outputCol=\"features\")\n",
        "test_assembled = assembler3.transform(test_set).select([\"features\"])"
      ],
      "metadata": {
        "id": "nYJssjzUpcOG"
      },
      "execution_count": 107,
      "outputs": []
    },
    {
      "cell_type": "code",
      "source": [
        "# Check the schema again\n",
        "train_assembled.printSchema()\n",
        "validation_assembled.printSchema()\n",
        "test_assembled.printSchema()"
      ],
      "metadata": {
        "colab": {
          "base_uri": "https://localhost:8080/"
        },
        "id": "hUD1ZZ0nw2Py",
        "outputId": "cc81bd27-89bb-4cd8-da2b-06ef41cf18f6"
      },
      "execution_count": 108,
      "outputs": [
        {
          "output_type": "stream",
          "name": "stdout",
          "text": [
            "root\n",
            " |-- features: vector (nullable = true)\n",
            " |-- itemCnt_nextMonth: integer (nullable = true)\n",
            "\n",
            "root\n",
            " |-- features: vector (nullable = true)\n",
            " |-- itemCnt_nextMonth: integer (nullable = true)\n",
            "\n",
            "root\n",
            " |-- features: vector (nullable = true)\n",
            "\n"
          ]
        }
      ]
    },
    {
      "cell_type": "markdown",
      "source": [
        "We will also get the min, max prediction values from training set and validation set to normalize the RMSE of our models later on."
      ],
      "metadata": {
        "id": "YOGIhoR1Kk6H"
      }
    },
    {
      "cell_type": "code",
      "source": [
        "train_maxVal = train_set.groupby().max('itemCnt_nextMonth').collect()[0].asDict()['max(itemCnt_nextMonth)']\n",
        "train_minVal = train_set.groupby().min('itemCnt_nextMonth').collect()[0].asDict()['min(itemCnt_nextMonth)']\n",
        "validation_maxVal = validation_set.groupby().max('itemCnt_nextMonth').collect()[0].asDict()['max(itemCnt_nextMonth)']\n",
        "validation_minVal = validation_set.groupby().min('itemCnt_nextMonth').collect()[0].asDict()['min(itemCnt_nextMonth)']"
      ],
      "metadata": {
        "id": "l2V9PtGBKwPY"
      },
      "execution_count": 43,
      "outputs": []
    },
    {
      "cell_type": "markdown",
      "source": [
        "# Modeling data  \n",
        "Now we can use machine learning models to perform regression on the processed data."
      ],
      "metadata": {
        "id": "sp235acgkSgu"
      }
    },
    {
      "cell_type": "markdown",
      "source": [
        "### Linear Regression  \n",
        "Firstly, we must rescale/normalize the features. This is a necessary step for linear regression."
      ],
      "metadata": {
        "id": "XHNlCLnXkhD6"
      }
    },
    {
      "cell_type": "code",
      "source": [
        "# Rescale training set\n",
        "scaler = StandardScaler(inputCol=\"features\", outputCol=\"scaledFeatures\")\n",
        "scaler_model = scaler.fit(train_assembled)\n",
        "train_scaled = scaler_model.transform(train_assembled).select([\"scaledFeatures\", \"itemCnt_nextMonth\"])\n",
        "\n",
        "# Rescale validation set\n",
        "scaler = StandardScaler(inputCol=\"features\", outputCol=\"scaledFeatures\")\n",
        "scaler_model = scaler.fit(validation_assembled)\n",
        "validation_scaled = scaler_model.transform(validation_assembled).select([\"scaledFeatures\", \"itemCnt_nextMonth\"])"
      ],
      "metadata": {
        "id": "16whmV8MPNFX"
      },
      "execution_count": 52,
      "outputs": []
    },
    {
      "cell_type": "markdown",
      "source": [
        "Before using Linear Regression, we should use a feature selector to reduce the data dimensionality, it'll reduce training time and reduce overfitting. Here we'll use Univariate Feature Selector to select the best 30% features from the training set. The selector will be fitted on the training set, then we will use it to transform both the training and validation set."
      ],
      "metadata": {
        "id": "x_zamhBkOxlC"
      }
    },
    {
      "cell_type": "code",
      "source": [
        "selector = UnivariateFeatureSelector(featuresCol=\"scaledFeatures\", outputCol=\"selectedFeatures\", labelCol=\"itemCnt_nextMonth\", selectionMode=\"percentile\")\n",
        "selector.setFeatureType(\"continuous\").setLabelType(\"continuous\").setSelectionThreshold(0.3)\n",
        "selector_model = selector.fit(train_scaled)\n",
        "train_selected = selector_model.transform(train_scaled).select([\"selectedFeatures\", \"itemCnt_nextMonth\"])\n",
        "validation_selected = selector_model.transform(validation_scaled).select([\"selectedFeatures\", \"itemCnt_nextMonth\"])"
      ],
      "metadata": {
        "id": "eIgn2fcyyma3"
      },
      "execution_count": 53,
      "outputs": []
    },
    {
      "cell_type": "code",
      "source": [
        "train_selected.head().selectedFeatures"
      ],
      "metadata": {
        "colab": {
          "base_uri": "https://localhost:8080/"
        },
        "id": "D-MsWY_k5E6c",
        "outputId": "b3738131-2649-406b-cb7a-5c9a5fff3835"
      },
      "execution_count": 54,
      "outputs": [
        {
          "output_type": "execute_result",
          "data": {
            "text/plain": [
              "DenseVector([0.1532, 2.1797, 2.2539, 3.0308, -3.592, 2.1551])"
            ]
          },
          "metadata": {},
          "execution_count": 54
        }
      ]
    },
    {
      "cell_type": "markdown",
      "source": [
        "So 6 features have been selected from 20 features of the training set. We'll use the selected feature to train the linear regression model."
      ],
      "metadata": {
        "id": "OeaOd9nBZC9d"
      }
    },
    {
      "cell_type": "code",
      "source": [
        "# Initialize the model with regularization parameter of 0.3, the balance between L2 and L1 regularization is 0.3\n",
        "lr = LinearRegression(featuresCol=\"selectedFeatures\", labelCol=\"itemCnt_nextMonth\", regParam=0.3, elasticNetParam=0.3, maxIter=10)\n",
        "lr_model = lr.fit(train_selected)"
      ],
      "metadata": {
        "id": "rnv2qw1E29vx"
      },
      "execution_count": 55,
      "outputs": []
    },
    {
      "cell_type": "markdown",
      "source": [
        "Print out the summary after training finishes"
      ],
      "metadata": {
        "id": "GvofVQK05M5e"
      }
    },
    {
      "cell_type": "code",
      "source": [
        "trainingSummary = lr_model.summary\n",
        "print(\"Train RMSE:\", trainingSummary.rootMeanSquaredError)\n",
        "print(\"Train Adjusted R2:\", trainingSummary.r2adj)"
      ],
      "metadata": {
        "colab": {
          "base_uri": "https://localhost:8080/"
        },
        "id": "_Uu1Ml2Q5QBn",
        "outputId": "d28c94f6-ab45-431a-9669-61a0ec3a427f"
      },
      "execution_count": 60,
      "outputs": [
        {
          "output_type": "stream",
          "name": "stdout",
          "text": [
            "Train RMSE: 2.221969755625813\n",
            "Train Adjusted R2: 0.5499202422130905\n"
          ]
        }
      ]
    },
    {
      "cell_type": "markdown",
      "source": [
        "The Adjusted R2 value says that about 54.9% ~ 55% of the records in our training set can be used to explain the target records. This is because originally we filled our training set with a lot of empty records using the combinations of (month_index, shop_id, item_id). As long as the adjusted R2 value is over 50%, we can consider our model good enough for evaluation.  \n",
        "To better understand the RMSE value, we normalize it against the result range of the training set (max and min of itemCnt_nextMonth). This will scale the RMSE to between 0 and 1. The closer it is to 0, the more our model fits, but if it's completely 0, that means the model is overfitting so we must be careful."
      ],
      "metadata": {
        "id": "JW8HNsaA_X0W"
      }
    },
    {
      "cell_type": "code",
      "source": [
        "print(\"Normalized RMSE:\", trainingSummary.rootMeanSquaredError / (train_maxVal - train_minVal))"
      ],
      "metadata": {
        "colab": {
          "base_uri": "https://localhost:8080/"
        },
        "id": "nbI2edkh-E7S",
        "outputId": "240a6b52-ceb1-4dfc-ab42-cd782b09fa83"
      },
      "execution_count": 57,
      "outputs": [
        {
          "output_type": "stream",
          "name": "stdout",
          "text": [
            "Normalized RMSE: 0.002780938367491631\n"
          ]
        }
      ]
    },
    {
      "cell_type": "markdown",
      "source": [
        "It looks like the normalized error on training set is quite small. That means our model is good enough. Now let's test it on validation set."
      ],
      "metadata": {
        "id": "8rjBqdYP7FHW"
      }
    },
    {
      "cell_type": "code",
      "source": [
        "# Let the model predict the validation set\n",
        "lr_predictions = lr_model.transform(validation_selected)\n",
        "\n",
        "# Use a Regression Evaluator to evaluate the prediction results\n",
        "lr_evaluator = RegressionEvaluator(predictionCol=\"prediction\", labelCol=\"itemCnt_nextMonth\",metricName=\"rmse\")\n",
        "validation_rmse = lr_evaluator.evaluate(lr_predictions)\n",
        "print(\"Validation RMSE:\", validation_rmse)"
      ],
      "metadata": {
        "colab": {
          "base_uri": "https://localhost:8080/"
        },
        "id": "2Jn5OZrJ9pmM",
        "outputId": "22fd93e0-4ad8-414e-f660-6a761226cbc5"
      },
      "execution_count": 58,
      "outputs": [
        {
          "output_type": "stream",
          "name": "stdout",
          "text": [
            "Validation RMSE: 2.264954954079689\n"
          ]
        }
      ]
    },
    {
      "cell_type": "markdown",
      "source": [
        "Again, let's normalized this error to have a better understanding of the evaluation."
      ],
      "metadata": {
        "id": "2PxoK4U4DJkb"
      }
    },
    {
      "cell_type": "code",
      "source": [
        "print(\"Normalized validation RMSE:\", validation_rmse / (validation_maxVal - validation_minVal))"
      ],
      "metadata": {
        "colab": {
          "base_uri": "https://localhost:8080/"
        },
        "id": "rsFFGKZQDVlt",
        "outputId": "1f40175a-7579-40db-90c0-baa3c30f2577"
      },
      "execution_count": 59,
      "outputs": [
        {
          "output_type": "stream",
          "name": "stdout",
          "text": [
            "Normalized validation RMSE: 0.003052499938112788\n"
          ]
        }
      ]
    },
    {
      "cell_type": "markdown",
      "source": [
        "So we can see with the normalized RMSE being very close to 0, the linear regression model is well-fitted enough. Since the RMSE of validation set is slightly higher than training set, there may be some overfitting, but the difference is small enough."
      ],
      "metadata": {
        "id": "zsPCu7YqE4q_"
      }
    },
    {
      "cell_type": "markdown",
      "source": [
        "### Random Forest Regression  \n",
        "Unlike with Linear Regression, the Random Forest inherently can do feature selection so we just need to train it with all of our assembled features."
      ],
      "metadata": {
        "id": "QpO0mfOGMF1v"
      }
    },
    {
      "cell_type": "code",
      "source": [
        "rf = RandomForestRegressor(featuresCol=\"features\", labelCol=\"itemCnt_nextMonth\", numTrees=50, maxDepth=7)\n",
        "rf_model = rf.fit(train_assembled)"
      ],
      "metadata": {
        "id": "p3CQhQRlMFcI"
      },
      "execution_count": 62,
      "outputs": []
    },
    {
      "cell_type": "markdown",
      "source": [
        "Because PySpark's random forest regressor can't give the training summary, we'll skip to the evaluation phase."
      ],
      "metadata": {
        "id": "p7qir5CvZ5Qe"
      }
    },
    {
      "cell_type": "code",
      "source": [
        "# Use the model to predict on validation set\n",
        "rf_predictions = rf_model.transform(validation_assembled)\n",
        "\n",
        "# Use a Regression Evaluator to evaluate the prediction results\n",
        "rf_evaluator = RegressionEvaluator(predictionCol=\"prediction\", labelCol=\"itemCnt_nextMonth\",metricName=\"rmse\")\n",
        "rf_validation_rmse = rf_evaluator.evaluate(rf_predictions)\n",
        "print(\"Validation RMSE:\", rf_validation_rmse)\n",
        "print(\"Normalized validation RMSE:\", rf_validation_rmse / (validation_maxVal - validation_minVal))"
      ],
      "metadata": {
        "colab": {
          "base_uri": "https://localhost:8080/"
        },
        "id": "3HI8jwikcyQV",
        "outputId": "42db4c84-5102-4d69-a2f3-d291b19a9f52"
      },
      "execution_count": 63,
      "outputs": [
        {
          "output_type": "stream",
          "name": "stdout",
          "text": [
            "Validation RMSE: 2.141026459429935\n",
            "Normalized validation RMSE: 0.002885480403544387\n"
          ]
        }
      ]
    },
    {
      "cell_type": "markdown",
      "source": [
        "We can see the validation RMSE and normalized RMSE of this model is smaller than the previous validation RMSE. It looks like the Random Forest Regressor model is better than Linear Regression model. Let's see how much importance the random forest model gives for each feature."
      ],
      "metadata": {
        "id": "xorqzMh2iMSi"
      }
    },
    {
      "cell_type": "code",
      "source": [
        "# Get the feature importance list from the random forest\n",
        "importance = rf_model.featureImportances\n",
        "\n",
        "# Draw a bar plot to see the features\n",
        "inputColumns = train_set.columns.copy()\n",
        "inputColumns.remove(\"itemCnt_nextMonth\")\n",
        "plt.barh(inputColumns, importance)\n",
        "plt.title(\"Feature Importances\")\n",
        "plt.ylabel(\"Feature\")\n",
        "plt.xlabel(\"Importance\")\n",
        "plt.show()"
      ],
      "metadata": {
        "colab": {
          "base_uri": "https://localhost:8080/",
          "height": 295
        },
        "id": "weO1TG8UjLd_",
        "outputId": "fec12c9e-2525-4f5e-925b-9d09a25d4491"
      },
      "execution_count": 69,
      "outputs": [
        {
          "output_type": "display_data",
          "data": {
            "text/plain": [
              "<Figure size 432x288 with 1 Axes>"
            ],
            "image/png": "[encoded data removed]"
          },
          "metadata": {
            "needs_background": "light"
          }
        }
      ]
    },
    {
      "cell_type": "markdown",
      "source": [
        "The Random Forest model determines that the sales number of current month (item_cnt_month) is the most important feature, which is correct with how the time series works. The next 4 most important features are:  \n",
        "- Mean encoding of shop id (shop_mean),  \n",
        "- The rolling-window based features for min and max of item sales for 3 months (item_cnt_min, item_cnt_max),  \n",
        "- The number of days in a month that a product is sold (days_sold_month)."
      ],
      "metadata": {
        "id": "UI_EpI9_lUzf"
      }
    },
    {
      "cell_type": "markdown",
      "source": [
        "# Make prediction on test set  \n",
        "We'll use the trained model to make prediction for November 2015 sales on the test set, which is month index 33. The choosen model is Random Forest Regressor since it has better validation RMSE than the Linear Regression model."
      ],
      "metadata": {
        "id": "D0VyR81nmi3K"
      }
    },
    {
      "cell_type": "code",
      "source": [
        "# Make prediction\n",
        "november_predictions = rf_model.transform(test_assembled)"
      ],
      "metadata": {
        "id": "zOo-rEvnnKOO"
      },
      "execution_count": 109,
      "outputs": []
    },
    {
      "cell_type": "code",
      "source": [
        "# Get the shop_id, item_id and prediction result columns from the assembled test set\n",
        "results = (november_predictions\n",
        "    .withColumn(\"feature\", vector_to_array(\"features\"))\n",
        "    .select([f.col(\"feature\")[i] for i in [16, 10]] + [\"prediction\"])\n",
        "    .withColumnRenamed(\"feature[16]\", \"shop_id\")\n",
        "    .withColumnRenamed(\"feature[10]\", \"item_id\")\n",
        "    .withColumnRenamed(\"prediction\", \"item_cnt_month\")\n",
        "    .withColumn(\"shop_id\", f.col(\"shop_id\").cast(\"int\"))\n",
        "    .withColumn(\"item_id\", f.col(\"item_id\").cast(\"int\"))\n",
        ")\n"
      ],
      "metadata": {
        "id": "b2xAZ3OpoIZD"
      },
      "execution_count": 110,
      "outputs": []
    },
    {
      "cell_type": "code",
      "source": [
        "results.show(10)"
      ],
      "metadata": {
        "colab": {
          "base_uri": "https://localhost:8080/"
        },
        "id": "vfdNA28ZtulT",
        "outputId": "b99bfcca-d7b4-4675-8bb3-746bab4eed83"
      },
      "execution_count": 97,
      "outputs": [
        {
          "output_type": "stream",
          "name": "stdout",
          "text": [
            "+-------+-------+-------------------+\n",
            "|shop_id|item_id|     item_cnt_month|\n",
            "+-------+-------+-------------------+\n",
            "|     31|     30| 0.6351059674619476|\n",
            "|     31|     31| 0.6522275828741929|\n",
            "|     31|     38|  0.557441392982103|\n",
            "|     31|     42| 0.0838327755421791|\n",
            "|     31|     45| 1.1773823248676627|\n",
            "|     31|     53|  0.965339869670807|\n",
            "|     31|     57| 0.7223339267835465|\n",
            "|     31|     59| 1.4343322358981883|\n",
            "|     31|     62|  0.875229919058947|\n",
            "|     31|     64|0.47995549983338526|\n",
            "+-------+-------+-------------------+\n",
            "only showing top 10 rows\n",
            "\n"
          ]
        }
      ]
    },
    {
      "cell_type": "code",
      "source": [
        "# Join the original test dataset with the results set to get the tuple id column\n",
        "submission = test.join(results, on=[\"shop_id\", \"item_id\"], how=\"left\").select([\"ID\", \"item_cnt_month\"]).orderBy(\"ID\")\n",
        "\n",
        "# Round the prediction to 2 decimal places\n",
        "submission = submission.withColumn(\"item_cnt_month\", f.round(\"item_cnt_month\", 2))"
      ],
      "metadata": {
        "id": "tz9K0acwo5dO"
      },
      "execution_count": 113,
      "outputs": []
    },
    {
      "cell_type": "code",
      "source": [
        "submission.show(10)"
      ],
      "metadata": {
        "colab": {
          "base_uri": "https://localhost:8080/"
        },
        "id": "yiuSf2sNwn0L",
        "outputId": "a079bbc9-6767-42e2-8c46-233b5902a63d"
      },
      "execution_count": 114,
      "outputs": [
        {
          "output_type": "stream",
          "name": "stdout",
          "text": [
            "+---+--------------+\n",
            "| ID|item_cnt_month|\n",
            "+---+--------------+\n",
            "|  0|          0.82|\n",
            "|  1|          0.03|\n",
            "|  2|          1.09|\n",
            "|  3|          0.31|\n",
            "|  4|          0.03|\n",
            "|  5|          0.61|\n",
            "|  6|          1.17|\n",
            "|  7|           0.1|\n",
            "|  8|          1.05|\n",
            "|  9|          0.04|\n",
            "+---+--------------+\n",
            "only showing top 10 rows\n",
            "\n"
          ]
        }
      ]
    },
    {
      "cell_type": "code",
      "source": [
        "submission.count()"
      ],
      "metadata": {
        "colab": {
          "base_uri": "https://localhost:8080/"
        },
        "id": "ABPKJZY57df2",
        "outputId": "2f6a5cdb-3e4a-4373-da6a-7144ed21b9f7"
      },
      "execution_count": 116,
      "outputs": [
        {
          "output_type": "execute_result",
          "data": {
            "text/plain": [
              "214200"
            ]
          },
          "metadata": {},
          "execution_count": 116
        }
      ]
    },
    {
      "cell_type": "markdown",
      "source": [
        "The number of row is exactly like the sample submission file. Now that we have the prediction for next month, let's save it to a CSV file."
      ],
      "metadata": {
        "id": "crsUz9rD6X2S"
      }
    },
    {
      "cell_type": "code",
      "source": [
        "submission.write.csv(\"submission.csv\")"
      ],
      "metadata": {
        "id": "ZRW-ofSk6dd7"
      },
      "execution_count": 115,
      "outputs": []
    },
    {
      "cell_type": "markdown",
      "source": [
        "Save our models for future uses"
      ],
      "metadata": {
        "id": "nGAHqlITIx9y"
      }
    },
    {
      "cell_type": "code",
      "source": [
        "lr_model.save(\"linear_regression.model\")\n",
        "rf_model.save(\"random_forest_regression.model\")"
      ],
      "metadata": {
        "id": "0YC8CpN-I8aw"
      },
      "execution_count": 117,
      "outputs": []
    },
    {
      "cell_type": "markdown",
      "source": [
        "Zip the model folders to download from Google Colab"
      ],
      "metadata": {
        "id": "5njxMjzzNXSQ"
      }
    },
    {
      "cell_type": "code",
      "source": [
        "!zip -r /content/linear_regression_model.zip /content/linear_regression.model\n",
        "!zip -r /content/random_forest_regression_model.zip /content/random_forest_regression.model"
      ],
      "metadata": {
        "colab": {
          "base_uri": "https://localhost:8080/"
        },
        "id": "JSfrfkqZNHLN",
        "outputId": "b4a2edcf-3021-439a-e2d0-e1ac968c724e"
      },
      "execution_count": 118,
      "outputs": [
        {
          "output_type": "stream",
          "name": "stdout",
          "text": [
            "  adding: content/linear_regression.model/ (stored 0%)\n",
            "  adding: content/linear_regression.model/data/ (stored 0%)\n",
            "  adding: content/linear_regression.model/data/._SUCCESS.crc (stored 0%)\n",
            "  adding: content/linear_regression.model/data/_SUCCESS (stored 0%)\n",
            "  adding: content/linear_regression.model/data/part-00000-fb2f2ca4-023c-46c0-b99e-e49e72bed066-c000.snappy.parquet (deflated 53%)\n",
            "  adding: content/linear_regression.model/data/.part-00000-fb2f2ca4-023c-46c0-b99e-e49e72bed066-c000.snappy.parquet.crc (stored 0%)\n",
            "  adding: content/linear_regression.model/metadata/ (stored 0%)\n",
            "  adding: content/linear_regression.model/metadata/part-00000 (deflated 43%)\n",
            "  adding: content/linear_regression.model/metadata/._SUCCESS.crc (stored 0%)\n",
            "  adding: content/linear_regression.model/metadata/_SUCCESS (stored 0%)\n",
            "  adding: content/linear_regression.model/metadata/.part-00000.crc (stored 0%)\n",
            "  adding: content/random_forest_regression.model/ (stored 0%)\n",
            "  adding: content/random_forest_regression.model/treesMetadata/ (stored 0%)\n",
            "  adding: content/random_forest_regression.model/treesMetadata/.part-00000-bd4e7ed4-1ea7-48ee-9487-e2a4f45121f4-c000.snappy.parquet.crc (stored 0%)\n",
            "  adding: content/random_forest_regression.model/treesMetadata/._SUCCESS.crc (stored 0%)\n",
            "  adding: content/random_forest_regression.model/treesMetadata/_SUCCESS (stored 0%)\n",
            "  adding: content/random_forest_regression.model/treesMetadata/part-00000-bd4e7ed4-1ea7-48ee-9487-e2a4f45121f4-c000.snappy.parquet (deflated 32%)\n",
            "  adding: content/random_forest_regression.model/data/ (stored 0%)\n",
            "  adding: content/random_forest_regression.model/data/.part-00000-22a07bd4-a32f-487b-9ae1-8aca39baefc6-c000.snappy.parquet.crc (stored 0%)\n",
            "  adding: content/random_forest_regression.model/data/._SUCCESS.crc (stored 0%)\n",
            "  adding: content/random_forest_regression.model/data/_SUCCESS (stored 0%)\n",
            "  adding: content/random_forest_regression.model/data/part-00000-22a07bd4-a32f-487b-9ae1-8aca39baefc6-c000.snappy.parquet (deflated 11%)\n",
            "  adding: content/random_forest_regression.model/metadata/ (stored 0%)\n",
            "  adding: content/random_forest_regression.model/metadata/part-00000 (deflated 42%)\n",
            "  adding: content/random_forest_regression.model/metadata/._SUCCESS.crc (stored 0%)\n",
            "  adding: content/random_forest_regression.model/metadata/_SUCCESS (stored 0%)\n",
            "  adding: content/random_forest_regression.model/metadata/.part-00000.crc (stored 0%)\n"
          ]
        }
      ]
    },
    {
      "cell_type": "markdown",
      "source": [
        "# Conclusion  \n",
        "In conclusion, the Random Forest Regression model is better than the Linear Regression model. There're still many things that can be improved for better predictions, such as:  \n",
        "- Using a stricter outlier range (of sales count and item prices),  \n",
        "- Filling the missing data with mean or median of product over all months instead of just 0,  \n",
        "- Engineering more lag-based features and rolling-window features,  \n",
        "- Create an ensemble model using many different regression models,  \n",
        "- Use statsmodel library to extract the more accurate trend and seasonality from the time series to use as features,\n",
        "- Use a hyperparameter tuning algorithm, PySpark only supports K-Fold Cross Validation, which isn't suited for time series forecasting problems,  \n",
        "- Use a recurrent neural network like LSTM instead of turning this dataset into a regression problem.  \n",
        "\n",
        "Currently, the core SparkML framework doesn't have good supports for time series forecasting problems, we hope that in the future, Apache Spark and SparkML will have more tools for building machine learning models from time series data and even deep learning algorithms."
      ],
      "metadata": {
        "id": "nEbvEqje9VV7"
      }
    },
    {
      "cell_type": "markdown",
      "source": [
        "# References\n",
        "1. https://www.kaggle.com/code/dimitreoliveira/model-stacking-feature-engineering-and-eda/notebook  \n",
        "2. https://machinelearningmastery.com/time-series-forecasting-supervised-learning/  \n",
        "3. https://www.analyticsvidhya.com/blog/2019/12/6-powerful-feature-engineering-techniques-time-series/  \n",
        "4. https://www.kaggle.com/competitions/competitive-data-science-predict-future-sales/data  \n",
        "5. https://www.analyticsvidhya.com/blog/2021/06/how-to-load-kaggle-datasets-directly-into-google-colab/  \n",
        "6. https://stackoverflow.com/questions/70582516/perform-lag-over-multiple-columns-using-pyspark  \n",
        "7. https://www.coursera.org/lecture/ds/plotting-with-apachespark-and-pythons-matplotlib-mjCxm"
      ],
      "metadata": {
        "id": "5_pVr8EurkQH"
      }
    }
  ]
}