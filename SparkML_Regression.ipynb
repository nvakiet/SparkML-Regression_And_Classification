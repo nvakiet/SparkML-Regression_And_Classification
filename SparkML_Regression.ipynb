{
  "nbformat": 4,
  "nbformat_minor": 0,
  "metadata": {
    "colab": {
      "name": "SparkML_Regression.ipynb",
      "provenance": [],
      "collapsed_sections": [],
      "mount_file_id": "1oBU1C3ZyyiElZMFhC35AArolp8WGrGMW",
      "authorship_tag": "ABX9TyOoT/1yxR1dWASgU4DbBYwz",
      "include_colab_link": true
    },
    "kernelspec": {
      "name": "python3",
      "display_name": "Python 3"
    },
    "language_info": {
      "name": "python"
    }
  },
  "cells": [
    {
      "cell_type": "markdown",
      "metadata": {
        "id": "view-in-github",
        "colab_type": "text"
      },
      "source": [
        "<a href=\"https://colab.research.google.com/github/nvakiet/SparkML-Regression_And_Classification/blob/main/SparkML_Regression.ipynb\" target=\"_parent\"><img src=\"https://colab.research.google.com/assets/colab-badge.svg\" alt=\"Open In Colab\"/></a>"
      ]
    },
    {
      "cell_type": "markdown",
      "source": [
        "# Install and initialize Spark on Google Colab"
      ],
      "metadata": {
        "id": "A_G9F3Cg2T4T"
      }
    },
    {
      "cell_type": "code",
      "execution_count": 1,
      "metadata": {
        "id": "tB3Vtt231pq7"
      },
      "outputs": [],
      "source": [
        "!apt-get install openjdk-8-jdk-headless -qq > /dev/null\n",
        "\n",
        "!wget -q https://archive.apache.org/dist/spark/spark-3.2.1/spark-3.2.1-bin-hadoop3.2.tgz\n",
        "\n",
        "!tar xf spark-3.2.1-bin-hadoop3.2.tgz\n",
        "\n",
        "!pip install -q findspark"
      ]
    },
    {
      "cell_type": "code",
      "source": [
        "# Initialize Spark\n",
        "import os\n",
        "os.environ[\"JAVA_HOME\"] = \"/usr/lib/jvm/java-8-openjdk-amd64\"\n",
        "os.environ[\"SPARK_HOME\"] = \"/content/spark-3.2.1-bin-hadoop3.2\"\n",
        "import findspark\n",
        "findspark.init()"
      ],
      "metadata": {
        "id": "BDTMpOc8Phn2"
      },
      "execution_count": 2,
      "outputs": []
    },
    {
      "cell_type": "markdown",
      "source": [
        "# Download the \"Predict Future Sales\" dataset from Kaggle"
      ],
      "metadata": {
        "id": "UgqVKmwOqnQs"
      }
    },
    {
      "cell_type": "code",
      "source": [
        "# Install Kaggle python package and create directory for kaggle credential\n",
        "!pip install kaggle\n",
        "!mkdir ~/.kaggle\n",
        "# Copy the Kaggle credential to runtime machine (remember to mount the Google Drive containing the credential file)\n",
        "!cp /content/drive/MyDrive/kaggle.json ~/.kaggle/kaggle.json\n",
        "\n",
        "# Download the dataset and unzip\n",
        "!kaggle competitions download -c competitive-data-science-predict-future-sales\n",
        "!unzip competitive-data-science-predict-future-sales.zip\n"
      ],
      "metadata": {
        "colab": {
          "base_uri": "https://localhost:8080/"
        },
        "id": "88CTFg1eqv21",
        "outputId": "a3e6e4d0-2e47-4783-e502-8e8407be7db7"
      },
      "execution_count": 3,
      "outputs": [
        {
          "output_type": "stream",
          "name": "stdout",
          "text": [
            "Requirement already satisfied: kaggle in /usr/local/lib/python3.7/dist-packages (1.5.12)\n",
            "Requirement already satisfied: requests in /usr/local/lib/python3.7/dist-packages (from kaggle) (2.23.0)\n",
            "Requirement already satisfied: urllib3 in /usr/local/lib/python3.7/dist-packages (from kaggle) (1.24.3)\n",
            "Requirement already satisfied: certifi in /usr/local/lib/python3.7/dist-packages (from kaggle) (2021.10.8)\n",
            "Requirement already satisfied: python-slugify in /usr/local/lib/python3.7/dist-packages (from kaggle) (6.1.1)\n",
            "Requirement already satisfied: tqdm in /usr/local/lib/python3.7/dist-packages (from kaggle) (4.64.0)\n",
            "Requirement already satisfied: six>=1.10 in /usr/local/lib/python3.7/dist-packages (from kaggle) (1.15.0)\n",
            "Requirement already satisfied: python-dateutil in /usr/local/lib/python3.7/dist-packages (from kaggle) (2.8.2)\n",
            "Requirement already satisfied: text-unidecode>=1.3 in /usr/local/lib/python3.7/dist-packages (from python-slugify->kaggle) (1.3)\n",
            "Requirement already satisfied: chardet<4,>=3.0.2 in /usr/local/lib/python3.7/dist-packages (from requests->kaggle) (3.0.4)\n",
            "Requirement already satisfied: idna<3,>=2.5 in /usr/local/lib/python3.7/dist-packages (from requests->kaggle) (2.10)\n",
            "Downloading competitive-data-science-predict-future-sales.zip to /content\n",
            "  0% 0.00/15.1M [00:00<?, ?B/s]\n",
            "100% 15.1M/15.1M [00:00<00:00, 169MB/s]\n",
            "Archive:  competitive-data-science-predict-future-sales.zip\n",
            "  inflating: item_categories.csv     \n",
            "  inflating: items.csv               \n",
            "  inflating: sales_train.csv         \n",
            "  inflating: sample_submission.csv   \n",
            "  inflating: shops.csv               \n",
            "  inflating: test.csv                \n"
          ]
        }
      ]
    },
    {
      "cell_type": "markdown",
      "source": [
        "# Import packages and initialize a Spark session"
      ],
      "metadata": {
        "id": "jNxbpjLT2ZMa"
      }
    },
    {
      "cell_type": "code",
      "source": [
        "from pyspark.sql import functions as f\n",
        "from pyspark.sql import SparkSession\n",
        "\n",
        "from pyspark.ml import Pipeline\n",
        "from pyspark.ml.feature import *\n",
        "from pyspark.ml.evaluation import *"
      ],
      "metadata": {
        "id": "gWNQEVaf2elp"
      },
      "execution_count": null,
      "outputs": []
    },
    {
      "cell_type": "code",
      "source": [
        "spark = (SparkSession\n",
        "        .builder\n",
        "        .appName('Lab 3 - SparkML: Regression')\n",
        "        .getOrCreate()\n",
        ")"
      ],
      "metadata": {
        "id": "vdGYbMh1qhE4"
      },
      "execution_count": 5,
      "outputs": []
    },
    {
      "cell_type": "markdown",
      "source": [
        "# Load train and test datasets into Pyspark"
      ],
      "metadata": {
        "id": "yvQHktrs3Cra"
      }
    },
    {
      "cell_type": "code",
      "source": [
        "data = spark.read.csv(\"sales_train.csv\", header = True, inferSchema = True)\n",
        "test = spark.read.csv(\"test.csv\", header=True, inferSchema=True)"
      ],
      "metadata": {
        "id": "xIlyH-tBPGDJ"
      },
      "execution_count": 14,
      "outputs": []
    },
    {
      "cell_type": "markdown",
      "source": [
        "# Raw data overview\n",
        "Firstly, let's see what the raw data looks like."
      ],
      "metadata": {
        "id": "5nmhs05pc39_"
      }
    },
    {
      "cell_type": "code",
      "source": [
        "# Print the dataframe schema\n",
        "print(\"Training data schema\")\n",
        "data.printSchema()\n",
        "print(\"Test data schema\")\n",
        "test.printSchema()"
      ],
      "metadata": {
        "id": "cxW10gAMojsF",
        "colab": {
          "base_uri": "https://localhost:8080/"
        },
        "outputId": "c7111878-1598-4b0e-f5be-7134ccc25c47"
      },
      "execution_count": 15,
      "outputs": [
        {
          "output_type": "stream",
          "name": "stdout",
          "text": [
            "Training data schema\n",
            "root\n",
            " |-- date: string (nullable = true)\n",
            " |-- date_block_num: integer (nullable = true)\n",
            " |-- shop_id: integer (nullable = true)\n",
            " |-- item_id: integer (nullable = true)\n",
            " |-- item_price: double (nullable = true)\n",
            " |-- item_cnt_day: double (nullable = true)\n",
            "\n",
            "Test data schema\n",
            "root\n",
            " |-- ID: integer (nullable = true)\n",
            " |-- shop_id: integer (nullable = true)\n",
            " |-- item_id: integer (nullable = true)\n",
            "\n"
          ]
        }
      ]
    },
    {
      "cell_type": "code",
      "source": [
        "# See the first 10 samples\n",
        "data.show(10)"
      ],
      "metadata": {
        "id": "_iDacPV6FWne",
        "colab": {
          "base_uri": "https://localhost:8080/"
        },
        "outputId": "6369498a-97b0-4e7c-e7a7-7afcea7e961a"
      },
      "execution_count": 16,
      "outputs": [
        {
          "output_type": "stream",
          "name": "stdout",
          "text": [
            "+----------+--------------+-------+-------+----------+------------+\n",
            "|      date|date_block_num|shop_id|item_id|item_price|item_cnt_day|\n",
            "+----------+--------------+-------+-------+----------+------------+\n",
            "|02.01.2013|             0|     59|  22154|     999.0|         1.0|\n",
            "|03.01.2013|             0|     25|   2552|     899.0|         1.0|\n",
            "|05.01.2013|             0|     25|   2552|     899.0|        -1.0|\n",
            "|06.01.2013|             0|     25|   2554|   1709.05|         1.0|\n",
            "|15.01.2013|             0|     25|   2555|    1099.0|         1.0|\n",
            "|10.01.2013|             0|     25|   2564|     349.0|         1.0|\n",
            "|02.01.2013|             0|     25|   2565|     549.0|         1.0|\n",
            "|04.01.2013|             0|     25|   2572|     239.0|         1.0|\n",
            "|11.01.2013|             0|     25|   2572|     299.0|         1.0|\n",
            "|03.01.2013|             0|     25|   2573|     299.0|         3.0|\n",
            "+----------+--------------+-------+-------+----------+------------+\n",
            "only showing top 10 rows\n",
            "\n"
          ]
        }
      ]
    },
    {
      "cell_type": "markdown",
      "source": [
        "Let's generate a summary of the whole dataframe to have a better understanding of the problem"
      ],
      "metadata": {
        "id": "CbY-GVPvrBqL"
      }
    },
    {
      "cell_type": "code",
      "source": [
        "print(\"Column number:\", len(data.columns))\n",
        "print(\"Raw data summary:\")\n",
        "data.summary().show()"
      ],
      "metadata": {
        "id": "vhlNEeTyq-7_",
        "colab": {
          "base_uri": "https://localhost:8080/"
        },
        "outputId": "89517c7f-d9ce-4172-c83d-2b9001311d79"
      },
      "execution_count": 17,
      "outputs": [
        {
          "output_type": "stream",
          "name": "stdout",
          "text": [
            "Column number: 6\n",
            "Raw data summary:\n",
            "+-------+----------+-----------------+------------------+------------------+------------------+-----------------+\n",
            "|summary|      date|   date_block_num|           shop_id|           item_id|        item_price|     item_cnt_day|\n",
            "+-------+----------+-----------------+------------------+------------------+------------------+-----------------+\n",
            "|  count|   2935849|          2935849|           2935849|           2935849|           2935849|          2935849|\n",
            "|   mean|      null|14.56991146343017|33.001728290521754|10197.227056977385| 890.8532326980396|1.242640885140891|\n",
            "| stddev|      null|9.422987708755963| 16.22697304833343|6324.2973538912065|1729.7996307126489|2.618834430895435|\n",
            "|    min|01.01.2013|                0|                 0|                 0|              -1.0|            -22.0|\n",
            "|    25%|      null|                7|                22|              4476|             249.0|              1.0|\n",
            "|    50%|      null|               14|                31|              9343|             399.0|              1.0|\n",
            "|    75%|      null|               23|                47|             15684|             999.0|              1.0|\n",
            "|    max|31.12.2014|               33|                59|             22169|          307980.0|           2169.0|\n",
            "+-------+----------+-----------------+------------------+------------------+------------------+-----------------+\n",
            "\n"
          ]
        }
      ]
    },
    {
      "cell_type": "markdown",
      "source": [
        "From the summary, we can see the dataset has a shape of (2935849,6). This is a time series where the item price and sales count depend on the dates. There's also the fact that the problem requires us to predict the sales count by month while this dataset is indexed by date, so some aggregation must be done on this dataframe.  \n",
        "Judging from the summary (mean, std, min, max) of item_price and item_cnt_day, there're definitely outliers in the data, and maybe some missing values.  \n",
        "Because the basic Spark MLlib library doesn't have any class for time series modeling, we must perform some feature engineering to convert this dataset from a time series forecasting problem to a regression problem so we can fit it with SparkML's regressors."
      ],
      "metadata": {
        "id": "RgqU6n_qsYes"
      }
    },
    {
      "cell_type": "markdown",
      "source": [
        "# Data preprocessing\n",
        "To prevent data leakage problem, we remove any item in training set which doesn't exist in test set. With Spark, this can be done by doing a semi join."
      ],
      "metadata": {
        "id": "0J6EZQWazIKM"
      }
    },
    {
      "cell_type": "code",
      "source": [
        "# Perform right outer join\n",
        "train = (data.join(test, [\"shop_id\", \"item_id\"], \"semi\")\n",
        "              .select(data.columns))\n",
        "# See if the number of rows decreases\n",
        "print(\"Rows after joining:\", train.count())\n",
        "print(\"Columns after joining:\", train.columns)"
      ],
      "metadata": {
        "id": "k3YaR3C3ze3y",
        "colab": {
          "base_uri": "https://localhost:8080/"
        },
        "outputId": "b547cfc3-969a-4273-f892-ff8d066c1680"
      },
      "execution_count": 48,
      "outputs": [
        {
          "output_type": "stream",
          "name": "stdout",
          "text": [
            "Rows after joining: 1224439\n",
            "Columns after joining: ['date', 'date_block_num', 'shop_id', 'item_id', 'item_price', 'item_cnt_day']\n"
          ]
        }
      ]
    },
    {
      "cell_type": "markdown",
      "source": [
        "Remove any row where the item price is negative (i.e outliers), this is to better calculate the monthly mean price for that item."
      ],
      "metadata": {
        "id": "D2aJy91ZV69_"
      }
    },
    {
      "cell_type": "code",
      "source": [
        "train = train.where(\"item_price > 0\")"
      ],
      "metadata": {
        "id": "Eaq7SKVLWSd7"
      },
      "execution_count": 49,
      "outputs": []
    },
    {
      "cell_type": "markdown",
      "source": [
        "Group the data by month block index, shop id and item id.  \n",
        "Then perform aggregation to create new features based on each (month, shop, item) tuple."
      ],
      "metadata": {
        "id": "SQciDvWgYVoP"
      }
    },
    {
      "cell_type": "code",
      "source": [
        "train = (\n",
        "    train.groupBy([\"date_block_num\", \"shop_id\", \"item_id\"]).agg(\n",
        "        f.sum(\"item_price\").alias(\"all_itemPrice_month\"), # Sum of item prices by each item per month\n",
        "        f.mean(\"item_price\").alias(\"mean_itemPrice_month\"), # Mean of item prices by each item per month\n",
        "        f.sum(\"item_cnt_day\").alias(\"item_cnt_month\"), # Total item sold per month\n",
        "        f.mean(\"item_cnt_day\").alias(\"mean_itemCnt_month\"), # Mean of item sold per month\n",
        "        f.count(\"item_cnt_day\").alias(\"days_sold_month\") # Number of days the item is sold each month\n",
        "    ).withColumnRenamed(\"date_block_num\", \"month_index\")\n",
        ")"
      ],
      "metadata": {
        "id": "OFV3KNPzW1Ag"
      },
      "execution_count": 50,
      "outputs": []
    },
    {
      "cell_type": "code",
      "source": [
        "train.columns"
      ],
      "metadata": {
        "colab": {
          "base_uri": "https://localhost:8080/"
        },
        "id": "JL3PfIusprfO",
        "outputId": "31e2c740-0d3f-4630-8e75-bf005eb13035"
      },
      "execution_count": 51,
      "outputs": [
        {
          "output_type": "execute_result",
          "data": {
            "text/plain": [
              "['month_index',\n",
              " 'shop_id',\n",
              " 'item_id',\n",
              " 'all_itemPrice_month',\n",
              " 'mean_itemPrice_month',\n",
              " 'item_cnt_month',\n",
              " 'mean_itemCnt_month',\n",
              " 'days_sold_month']"
            ]
          },
          "metadata": {},
          "execution_count": 51
        }
      ]
    },
    {
      "cell_type": "markdown",
      "source": [
        "Generate all posible combinations of month indices, shop ids and item ids. This is for later when we create lag features from time series, an item maybe available at a certain month, but not all months before that, which will make it impossible to create lag features for that item. So we need these combinations to fill in the missing records."
      ],
      "metadata": {
        "id": "-SnIJCrAf7Yf"
      }
    },
    {
      "cell_type": "code",
      "source": [
        "combinations = (\n",
        "    (train.select(\"month_index\").distinct()).crossJoin(\n",
        "        train.select(\"shop_id\").distinct())\n",
        "    ).crossJoin(\n",
        "        train.select(\"item_id\").distinct()\n",
        "    )"
      ],
      "metadata": {
        "id": "-goir0iBjTyq"
      },
      "execution_count": 53,
      "outputs": []
    },
    {
      "cell_type": "markdown",
      "source": [
        "To fill the missing records with these combinations, simply do a right outer join. Then fill the missing values with 0."
      ],
      "metadata": {
        "id": "wWk-3KH6luXw"
      }
    },
    {
      "cell_type": "code",
      "source": [
        "train_monthly = train.join(combinations, [\"month_index\", \"shop_id\", \"item_id\"], \"rightouter\")\n",
        "train_monthly = train_monthly.fillna(0)"
      ],
      "metadata": {
        "id": "CVe_1QH5l2HQ"
      },
      "execution_count": 54,
      "outputs": []
    },
    {
      "cell_type": "markdown",
      "source": [
        "Now let's see what our new dataset looks like"
      ],
      "metadata": {
        "id": "kXBGqKTQqPKU"
      }
    },
    {
      "cell_type": "code",
      "source": [
        "print(\"10 first samples:\")\n",
        "train_monthly.show(10)\n",
        "print(\"Summary:\")\n",
        "train_monthly.summary().show()"
      ],
      "metadata": {
        "colab": {
          "base_uri": "https://localhost:8080/"
        },
        "id": "5nKceJPpqVZi",
        "outputId": "bcb1d2f3-fc11-4074-ba5c-9767a67bebab"
      },
      "execution_count": 55,
      "outputs": [
        {
          "output_type": "stream",
          "name": "stdout",
          "text": [
            "10 first samples:\n",
            "+-----------+-------+-------+-------------------+--------------------+--------------+------------------+---------------+\n",
            "|month_index|shop_id|item_id|all_itemPrice_month|mean_itemPrice_month|item_cnt_month|mean_itemCnt_month|days_sold_month|\n",
            "+-----------+-------+-------+-------------------+--------------------+--------------+------------------+---------------+\n",
            "|          1|     31|   1829|             7495.0|              1499.0|           5.0|               1.0|              5|\n",
            "|          4|     31|   1829|             2398.0|              1199.0|           2.0|               1.0|              2|\n",
            "|          8|     31|   1829|             2398.0|              1199.0|           2.0|               1.0|              2|\n",
            "|         10|     31|   1829|                0.0|                 0.0|           0.0|               0.0|              0|\n",
            "|         13|     31|   1829|           2878.045|   479.6741666666667|          11.0|1.8333333333333333|              6|\n",
            "|          3|     31|   1829|             2998.0|              1499.0|           2.0|               1.0|              2|\n",
            "|          5|     31|   1829|             3596.0|               899.0|           5.0|              1.25|              4|\n",
            "|          6|     31|   1829|                0.0|                 0.0|           0.0|               0.0|              0|\n",
            "|          7|     31|   1829|                0.0|                 0.0|           0.0|               0.0|              0|\n",
            "|          9|     31|   1829|                0.0|                 0.0|           0.0|               0.0|              0|\n",
            "+-----------+-------+-------+-------------------+--------------------+--------------+------------------+---------------+\n",
            "only showing top 10 rows\n",
            "\n",
            "Summary:\n",
            "+-------+-----------------+------------------+-----------------+-------------------+--------------------+-------------------+-------------------+-------------------+\n",
            "|summary|      month_index|           shop_id|          item_id|all_itemPrice_month|mean_itemPrice_month|     item_cnt_month| mean_itemCnt_month|    days_sold_month|\n",
            "+-------+-----------------+------------------+-----------------+-------------------+--------------------+-------------------+-------------------+-------------------+\n",
            "|  count|          6734448|           6734448|          6734448|            6734448|             6734448|            6734448|            6734448|            6734448|\n",
            "|   mean|             16.5|31.642857142857142|11041.89016115352| 187.39288433238372|   81.23011121099556|0.24022325215073306|0.09729915389439427|0.18181727737744802|\n",
            "| stddev|9.810709163571786|17.561893799490626|6210.744436176225|  2177.443736093959|    534.732650390928| 3.4566395495600553| 0.6122030908741553| 0.9047350069841561|\n",
            "|    min|                0|                 2|               30|                0.0|                 0.0|               -4.0|               -2.0|                  0|\n",
            "|    25%|                8|                16|             5386|                0.0|                 0.0|                0.0|                0.0|                  0|\n",
            "|    50%|               16|                35|            11266|                0.0|                 0.0|                0.0|                0.0|                  0|\n",
            "|    75%|               25|                47|            16069|                0.0|                 0.0|                0.0|                0.0|                  0|\n",
            "|    max|               33|                59|            22167|     515573.5897436|             42990.0|             2253.0|             1000.0|                 31|\n",
            "+-------+-----------------+------------------+-----------------+-------------------+--------------------+-------------------+-------------------+-------------------+\n",
            "\n"
          ]
        }
      ]
    },
    {
      "cell_type": "markdown",
      "source": [
        "# Exploratory Data Analysis (EDA)"
      ],
      "metadata": {
        "id": "ukz_Pl0rzauu"
      }
    },
    {
      "cell_type": "markdown",
      "source": [
        "# References\n",
        "1. https://www.kaggle.com/code/dimitreoliveira/model-stacking-feature-engineering-and-eda/notebook"
      ],
      "metadata": {
        "id": "5_pVr8EurkQH"
      }
    }
  ]
}